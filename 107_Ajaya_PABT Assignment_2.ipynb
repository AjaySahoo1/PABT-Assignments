{
 "cells": [
  {
   "cell_type": "code",
   "execution_count": 42,
   "id": "def4aeae",
   "metadata": {},
   "outputs": [],
   "source": [
    "#Q1. Plot the monthly beer demand and discuss your observations.\n",
    "import pandas as pd\n",
    "import matplotlib.pyplot as plt\n",
    "import matplotlib.ticker as ticker\n",
    "import plotly.express as px\n",
    "\n",
    "# Load the dataset\n",
    "df = pd.read_csv('tableA3.csv')"
   ]
  },
  {
   "cell_type": "code",
   "execution_count": 43,
   "id": "cb65219a",
   "metadata": {},
   "outputs": [
    {
     "data": {
      "text/html": [
       "<div>\n",
       "<style scoped>\n",
       "    .dataframe tbody tr th:only-of-type {\n",
       "        vertical-align: middle;\n",
       "    }\n",
       "\n",
       "    .dataframe tbody tr th {\n",
       "        vertical-align: top;\n",
       "    }\n",
       "\n",
       "    .dataframe thead th {\n",
       "        text-align: right;\n",
       "    }\n",
       "</style>\n",
       "<table border=\"1\" class=\"dataframe\">\n",
       "  <thead>\n",
       "    <tr style=\"text-align: right;\">\n",
       "      <th></th>\n",
       "      <th>Time</th>\n",
       "      <th>Beer Consumption  (lt)</th>\n",
       "      <th>Average Beer Price</th>\n",
       "      <th>Average Raki Price*</th>\n",
       "      <th>Average Canned Soft Drink Price*</th>\n",
       "      <th>Average Canned Beer Price</th>\n",
       "      <th>Average Draft Beer Price</th>\n",
       "    </tr>\n",
       "  </thead>\n",
       "  <tbody>\n",
       "    <tr>\n",
       "      <th>0</th>\n",
       "      <td>Jan '87</td>\n",
       "      <td>13621800.0</td>\n",
       "      <td>1338.42</td>\n",
       "      <td>9715.74</td>\n",
       "      <td>2208.12</td>\n",
       "      <td>2671.75</td>\n",
       "      <td>971.57</td>\n",
       "    </tr>\n",
       "    <tr>\n",
       "      <th>1</th>\n",
       "      <td>Feb '87</td>\n",
       "      <td>14346944.0</td>\n",
       "      <td>1314.44</td>\n",
       "      <td>9460.31</td>\n",
       "      <td>2150.07</td>\n",
       "      <td>2866.48</td>\n",
       "      <td>946.03</td>\n",
       "    </tr>\n",
       "    <tr>\n",
       "      <th>2</th>\n",
       "      <td>Mar '87</td>\n",
       "      <td>14912839.0</td>\n",
       "      <td>1267.54</td>\n",
       "      <td>9122.77</td>\n",
       "      <td>2073.36</td>\n",
       "      <td>2764.20</td>\n",
       "      <td>912.28</td>\n",
       "    </tr>\n",
       "    <tr>\n",
       "      <th>3</th>\n",
       "      <td>Apr '87</td>\n",
       "      <td>16129850.0</td>\n",
       "      <td>1241.47</td>\n",
       "      <td>8935.13</td>\n",
       "      <td>2030.71</td>\n",
       "      <td>2707.35</td>\n",
       "      <td>893.51</td>\n",
       "    </tr>\n",
       "    <tr>\n",
       "      <th>4</th>\n",
       "      <td>May '87</td>\n",
       "      <td>12140503.0</td>\n",
       "      <td>1183.48</td>\n",
       "      <td>8517.76</td>\n",
       "      <td>1935.85</td>\n",
       "      <td>2580.88</td>\n",
       "      <td>851.78</td>\n",
       "    </tr>\n",
       "  </tbody>\n",
       "</table>\n",
       "</div>"
      ],
      "text/plain": [
       "      Time  Beer Consumption  (lt)  Average Beer Price  Average Raki Price*  \\\n",
       "0  Jan '87              13621800.0             1338.42              9715.74   \n",
       "1  Feb '87              14346944.0             1314.44              9460.31   \n",
       "2  Mar '87              14912839.0             1267.54              9122.77   \n",
       "3  Apr '87              16129850.0             1241.47              8935.13   \n",
       "4  May '87              12140503.0             1183.48              8517.76   \n",
       "\n",
       "   Average Canned Soft Drink Price*  Average Canned Beer Price  \\\n",
       "0                           2208.12                    2671.75   \n",
       "1                           2150.07                    2866.48   \n",
       "2                           2073.36                    2764.20   \n",
       "3                           2030.71                    2707.35   \n",
       "4                           1935.85                    2580.88   \n",
       "\n",
       "   Average Draft Beer Price  \n",
       "0                    971.57  \n",
       "1                    946.03  \n",
       "2                    912.28  \n",
       "3                    893.51  \n",
       "4                    851.78  "
      ]
     },
     "execution_count": 43,
     "metadata": {},
     "output_type": "execute_result"
    }
   ],
   "source": [
    "df.head()"
   ]
  },
  {
   "cell_type": "code",
   "execution_count": 44,
   "id": "818c21e5",
   "metadata": {},
   "outputs": [
    {
     "name": "stdout",
     "output_type": "stream",
     "text": [
      "object\n"
     ]
    }
   ],
   "source": [
    "print(df['Time'].dtypes)"
   ]
  },
  {
   "cell_type": "code",
   "execution_count": 45,
   "id": "adf54ad0",
   "metadata": {},
   "outputs": [],
   "source": [
    "df['Time'] = pd.to_datetime(df['Time'], format=\"%b '%y\")"
   ]
  },
  {
   "cell_type": "code",
   "execution_count": 46,
   "id": "162384f4",
   "metadata": {},
   "outputs": [
    {
     "data": {
      "text/html": [
       "<div>\n",
       "<style scoped>\n",
       "    .dataframe tbody tr th:only-of-type {\n",
       "        vertical-align: middle;\n",
       "    }\n",
       "\n",
       "    .dataframe tbody tr th {\n",
       "        vertical-align: top;\n",
       "    }\n",
       "\n",
       "    .dataframe thead th {\n",
       "        text-align: right;\n",
       "    }\n",
       "</style>\n",
       "<table border=\"1\" class=\"dataframe\">\n",
       "  <thead>\n",
       "    <tr style=\"text-align: right;\">\n",
       "      <th></th>\n",
       "      <th>Time</th>\n",
       "      <th>Beer Consumption  (lt)</th>\n",
       "      <th>Average Beer Price</th>\n",
       "      <th>Average Raki Price*</th>\n",
       "      <th>Average Canned Soft Drink Price*</th>\n",
       "      <th>Average Canned Beer Price</th>\n",
       "      <th>Average Draft Beer Price</th>\n",
       "    </tr>\n",
       "  </thead>\n",
       "  <tbody>\n",
       "    <tr>\n",
       "      <th>0</th>\n",
       "      <td>1987-01-01</td>\n",
       "      <td>13621800.0</td>\n",
       "      <td>1338.42</td>\n",
       "      <td>9715.74</td>\n",
       "      <td>2208.12</td>\n",
       "      <td>2671.75</td>\n",
       "      <td>971.57</td>\n",
       "    </tr>\n",
       "    <tr>\n",
       "      <th>1</th>\n",
       "      <td>1987-02-01</td>\n",
       "      <td>14346944.0</td>\n",
       "      <td>1314.44</td>\n",
       "      <td>9460.31</td>\n",
       "      <td>2150.07</td>\n",
       "      <td>2866.48</td>\n",
       "      <td>946.03</td>\n",
       "    </tr>\n",
       "    <tr>\n",
       "      <th>2</th>\n",
       "      <td>1987-03-01</td>\n",
       "      <td>14912839.0</td>\n",
       "      <td>1267.54</td>\n",
       "      <td>9122.77</td>\n",
       "      <td>2073.36</td>\n",
       "      <td>2764.20</td>\n",
       "      <td>912.28</td>\n",
       "    </tr>\n",
       "    <tr>\n",
       "      <th>3</th>\n",
       "      <td>1987-04-01</td>\n",
       "      <td>16129850.0</td>\n",
       "      <td>1241.47</td>\n",
       "      <td>8935.13</td>\n",
       "      <td>2030.71</td>\n",
       "      <td>2707.35</td>\n",
       "      <td>893.51</td>\n",
       "    </tr>\n",
       "    <tr>\n",
       "      <th>4</th>\n",
       "      <td>1987-05-01</td>\n",
       "      <td>12140503.0</td>\n",
       "      <td>1183.48</td>\n",
       "      <td>8517.76</td>\n",
       "      <td>1935.85</td>\n",
       "      <td>2580.88</td>\n",
       "      <td>851.78</td>\n",
       "    </tr>\n",
       "  </tbody>\n",
       "</table>\n",
       "</div>"
      ],
      "text/plain": [
       "        Time  Beer Consumption  (lt)  Average Beer Price  Average Raki Price*  \\\n",
       "0 1987-01-01              13621800.0             1338.42              9715.74   \n",
       "1 1987-02-01              14346944.0             1314.44              9460.31   \n",
       "2 1987-03-01              14912839.0             1267.54              9122.77   \n",
       "3 1987-04-01              16129850.0             1241.47              8935.13   \n",
       "4 1987-05-01              12140503.0             1183.48              8517.76   \n",
       "\n",
       "   Average Canned Soft Drink Price*  Average Canned Beer Price  \\\n",
       "0                           2208.12                    2671.75   \n",
       "1                           2150.07                    2866.48   \n",
       "2                           2073.36                    2764.20   \n",
       "3                           2030.71                    2707.35   \n",
       "4                           1935.85                    2580.88   \n",
       "\n",
       "   Average Draft Beer Price  \n",
       "0                    971.57  \n",
       "1                    946.03  \n",
       "2                    912.28  \n",
       "3                    893.51  \n",
       "4                    851.78  "
      ]
     },
     "execution_count": 46,
     "metadata": {},
     "output_type": "execute_result"
    }
   ],
   "source": [
    "df.head()"
   ]
  },
  {
   "cell_type": "code",
   "execution_count": 47,
   "id": "fd23570c",
   "metadata": {},
   "outputs": [
    {
     "data": {
      "application/vnd.plotly.v1+json": {
       "config": {
        "plotlyServerURL": "https://plot.ly"
       },
       "data": [
        {
         "hovertemplate": "Date=%{x}<br>Beer Consumption (liters)=%{y}<extra></extra>",
         "legendgroup": "",
         "line": {
          "color": "#636efa",
          "dash": "solid"
         },
         "marker": {
          "symbol": "circle"
         },
         "mode": "lines+markers",
         "name": "",
         "orientation": "v",
         "showlegend": false,
         "type": "scatter",
         "x": [
          "1987-01-01T00:00:00.000000000",
          "1987-02-01T00:00:00.000000000",
          "1987-03-01T00:00:00.000000000",
          "1987-04-01T00:00:00.000000000",
          "1987-05-01T00:00:00.000000000",
          "1987-06-01T00:00:00.000000000",
          "1987-07-01T00:00:00.000000000",
          "1987-08-01T00:00:00.000000000",
          "1987-09-01T00:00:00.000000000",
          "1987-10-01T00:00:00.000000000",
          "1987-11-01T00:00:00.000000000",
          "1987-12-01T00:00:00.000000000",
          "1988-01-01T00:00:00.000000000",
          "1988-02-01T00:00:00.000000000",
          "1988-03-01T00:00:00.000000000",
          "1988-04-01T00:00:00.000000000",
          "1988-05-01T00:00:00.000000000",
          "1988-06-01T00:00:00.000000000",
          "1988-07-01T00:00:00.000000000",
          "1988-08-01T00:00:00.000000000",
          "1988-09-01T00:00:00.000000000",
          "1988-10-01T00:00:00.000000000",
          "1988-11-01T00:00:00.000000000",
          "1988-12-01T00:00:00.000000000",
          "1989-01-01T00:00:00.000000000",
          "1989-02-01T00:00:00.000000000",
          "1989-03-01T00:00:00.000000000",
          "1989-04-01T00:00:00.000000000",
          "1989-05-01T00:00:00.000000000",
          "1989-06-01T00:00:00.000000000",
          "1989-07-01T00:00:00.000000000",
          "1989-08-01T00:00:00.000000000",
          "1989-09-01T00:00:00.000000000",
          "1989-10-01T00:00:00.000000000",
          "1989-11-01T00:00:00.000000000",
          "1989-12-01T00:00:00.000000000",
          "1990-01-01T00:00:00.000000000",
          "1990-02-01T00:00:00.000000000",
          "1990-03-01T00:00:00.000000000",
          "1990-04-01T00:00:00.000000000",
          "1990-05-01T00:00:00.000000000",
          "1990-06-01T00:00:00.000000000",
          "1990-07-01T00:00:00.000000000",
          "1990-08-01T00:00:00.000000000",
          "1990-09-01T00:00:00.000000000",
          "1990-10-01T00:00:00.000000000",
          "1990-11-01T00:00:00.000000000",
          "1990-12-01T00:00:00.000000000",
          "1991-01-01T00:00:00.000000000",
          "1991-02-01T00:00:00.000000000",
          "1991-03-01T00:00:00.000000000",
          "1991-04-01T00:00:00.000000000",
          "1991-05-01T00:00:00.000000000",
          "1991-06-01T00:00:00.000000000",
          "1991-07-01T00:00:00.000000000",
          "1991-08-01T00:00:00.000000000",
          "1991-09-01T00:00:00.000000000",
          "1991-10-01T00:00:00.000000000",
          "1991-11-01T00:00:00.000000000",
          "1991-12-01T00:00:00.000000000",
          "1992-01-01T00:00:00.000000000",
          "1992-02-01T00:00:00.000000000",
          "1992-03-01T00:00:00.000000000",
          "1992-04-01T00:00:00.000000000",
          "1992-05-01T00:00:00.000000000",
          "1992-06-01T00:00:00.000000000",
          "1992-07-01T00:00:00.000000000",
          "1992-08-01T00:00:00.000000000",
          "1992-09-01T00:00:00.000000000",
          "1992-10-01T00:00:00.000000000",
          "1992-11-01T00:00:00.000000000",
          "1992-12-01T00:00:00.000000000",
          "1993-01-01T00:00:00.000000000",
          "1993-02-01T00:00:00.000000000",
          "1993-03-01T00:00:00.000000000",
          "1993-04-01T00:00:00.000000000",
          "1993-05-01T00:00:00.000000000",
          "1993-06-01T00:00:00.000000000",
          "1993-07-01T00:00:00.000000000",
          "1993-08-01T00:00:00.000000000",
          "1993-09-01T00:00:00.000000000",
          "1993-10-01T00:00:00.000000000",
          "1993-11-01T00:00:00.000000000",
          "1993-12-01T00:00:00.000000000"
         ],
         "xaxis": "x",
         "y": {
          "bdata": "AAAAAEX7aUEAAAAAWF1rQQAAAOCocWxBAAAAQOfDbkEAAADg+idnQQAAALB7YXxBAAAA0KOqe0EAAABwIe16QQAAABA3DnlBAAAA4LUDdUEAAADwzSBxQQAAANCM43FBAAAA4ABraEEAAABgLJhtQQAAALBIyHBBAAAAAI1TaEEAAAAwCdNzQQAAABDiDXtBAAAAEHihgEEAAAAYYjyBQQAAAECl63lBAAAAEI0jdUEAAACAa1dzQQAAAIAyi25BAAAAAB+aaUEAAAAgweZsQQAAAOD/MHNBAAAAwDMpbkEAAACwDrF2QQAAABBFy3xBAAAAgL5WgkEAAABg/rOEQQAAAJjHGoBBAAAAEO9FekEAAACga/l7QQAAALAb2XJBAAAAMPkycEEAAADAeL1xQQAAALDDVnVBAAAAcPQHcEEAAABAjll9QQAAALCauoNBAAAA4N9bhUEAAAAgzDqHQQAAAOii14JBAAAA0Oe0eUEAAACgdMF6QQAAALDtXXlBAAAAcEuVcUEAAACQFzhyQQAAACDGvHRBAAAA8GITcEEAAAA4kBSAQQAAAKAqGINBAAAA4NINiUEAAADgevKJQQAAAGCSxYNBAAAASDCfgkEAAACwLvN+QQAAAFB1TXpBAAAA8L3KdEEAAACgSdt1QQAAADC1/ndBAAAAoNK0eEEAAAAQP4ODQQAAAPgsSIdBAAAAQNT4i0EAAAAwOv+NQQAAAAgt24dBAAAAwM4bhkEAAABwUnV9QQAAAFDwWn1BAAAAcGGUd0EAAABgX1dzQQAAALC71n5BAAAAIMoMf0EAAAAABUuIQQAAANjLzIpBAAAAWKKAj0EAAAD4ea+QQQAAAHjlV4tBAAAA2CKihEEAAADA5luCQQAAAHDUEIVB",
          "dtype": "f8"
         },
         "yaxis": "y"
        }
       ],
       "layout": {
        "legend": {
         "tracegroupgap": 0
        },
        "template": {
         "data": {
          "bar": [
           {
            "error_x": {
             "color": "#2a3f5f"
            },
            "error_y": {
             "color": "#2a3f5f"
            },
            "marker": {
             "line": {
              "color": "#E5ECF6",
              "width": 0.5
             },
             "pattern": {
              "fillmode": "overlay",
              "size": 10,
              "solidity": 0.2
             }
            },
            "type": "bar"
           }
          ],
          "barpolar": [
           {
            "marker": {
             "line": {
              "color": "#E5ECF6",
              "width": 0.5
             },
             "pattern": {
              "fillmode": "overlay",
              "size": 10,
              "solidity": 0.2
             }
            },
            "type": "barpolar"
           }
          ],
          "carpet": [
           {
            "aaxis": {
             "endlinecolor": "#2a3f5f",
             "gridcolor": "white",
             "linecolor": "white",
             "minorgridcolor": "white",
             "startlinecolor": "#2a3f5f"
            },
            "baxis": {
             "endlinecolor": "#2a3f5f",
             "gridcolor": "white",
             "linecolor": "white",
             "minorgridcolor": "white",
             "startlinecolor": "#2a3f5f"
            },
            "type": "carpet"
           }
          ],
          "choropleth": [
           {
            "colorbar": {
             "outlinewidth": 0,
             "ticks": ""
            },
            "type": "choropleth"
           }
          ],
          "contour": [
           {
            "colorbar": {
             "outlinewidth": 0,
             "ticks": ""
            },
            "colorscale": [
             [
              0,
              "#0d0887"
             ],
             [
              0.1111111111111111,
              "#46039f"
             ],
             [
              0.2222222222222222,
              "#7201a8"
             ],
             [
              0.3333333333333333,
              "#9c179e"
             ],
             [
              0.4444444444444444,
              "#bd3786"
             ],
             [
              0.5555555555555556,
              "#d8576b"
             ],
             [
              0.6666666666666666,
              "#ed7953"
             ],
             [
              0.7777777777777778,
              "#fb9f3a"
             ],
             [
              0.8888888888888888,
              "#fdca26"
             ],
             [
              1,
              "#f0f921"
             ]
            ],
            "type": "contour"
           }
          ],
          "contourcarpet": [
           {
            "colorbar": {
             "outlinewidth": 0,
             "ticks": ""
            },
            "type": "contourcarpet"
           }
          ],
          "heatmap": [
           {
            "colorbar": {
             "outlinewidth": 0,
             "ticks": ""
            },
            "colorscale": [
             [
              0,
              "#0d0887"
             ],
             [
              0.1111111111111111,
              "#46039f"
             ],
             [
              0.2222222222222222,
              "#7201a8"
             ],
             [
              0.3333333333333333,
              "#9c179e"
             ],
             [
              0.4444444444444444,
              "#bd3786"
             ],
             [
              0.5555555555555556,
              "#d8576b"
             ],
             [
              0.6666666666666666,
              "#ed7953"
             ],
             [
              0.7777777777777778,
              "#fb9f3a"
             ],
             [
              0.8888888888888888,
              "#fdca26"
             ],
             [
              1,
              "#f0f921"
             ]
            ],
            "type": "heatmap"
           }
          ],
          "histogram": [
           {
            "marker": {
             "pattern": {
              "fillmode": "overlay",
              "size": 10,
              "solidity": 0.2
             }
            },
            "type": "histogram"
           }
          ],
          "histogram2d": [
           {
            "colorbar": {
             "outlinewidth": 0,
             "ticks": ""
            },
            "colorscale": [
             [
              0,
              "#0d0887"
             ],
             [
              0.1111111111111111,
              "#46039f"
             ],
             [
              0.2222222222222222,
              "#7201a8"
             ],
             [
              0.3333333333333333,
              "#9c179e"
             ],
             [
              0.4444444444444444,
              "#bd3786"
             ],
             [
              0.5555555555555556,
              "#d8576b"
             ],
             [
              0.6666666666666666,
              "#ed7953"
             ],
             [
              0.7777777777777778,
              "#fb9f3a"
             ],
             [
              0.8888888888888888,
              "#fdca26"
             ],
             [
              1,
              "#f0f921"
             ]
            ],
            "type": "histogram2d"
           }
          ],
          "histogram2dcontour": [
           {
            "colorbar": {
             "outlinewidth": 0,
             "ticks": ""
            },
            "colorscale": [
             [
              0,
              "#0d0887"
             ],
             [
              0.1111111111111111,
              "#46039f"
             ],
             [
              0.2222222222222222,
              "#7201a8"
             ],
             [
              0.3333333333333333,
              "#9c179e"
             ],
             [
              0.4444444444444444,
              "#bd3786"
             ],
             [
              0.5555555555555556,
              "#d8576b"
             ],
             [
              0.6666666666666666,
              "#ed7953"
             ],
             [
              0.7777777777777778,
              "#fb9f3a"
             ],
             [
              0.8888888888888888,
              "#fdca26"
             ],
             [
              1,
              "#f0f921"
             ]
            ],
            "type": "histogram2dcontour"
           }
          ],
          "mesh3d": [
           {
            "colorbar": {
             "outlinewidth": 0,
             "ticks": ""
            },
            "type": "mesh3d"
           }
          ],
          "parcoords": [
           {
            "line": {
             "colorbar": {
              "outlinewidth": 0,
              "ticks": ""
             }
            },
            "type": "parcoords"
           }
          ],
          "pie": [
           {
            "automargin": true,
            "type": "pie"
           }
          ],
          "scatter": [
           {
            "fillpattern": {
             "fillmode": "overlay",
             "size": 10,
             "solidity": 0.2
            },
            "type": "scatter"
           }
          ],
          "scatter3d": [
           {
            "line": {
             "colorbar": {
              "outlinewidth": 0,
              "ticks": ""
             }
            },
            "marker": {
             "colorbar": {
              "outlinewidth": 0,
              "ticks": ""
             }
            },
            "type": "scatter3d"
           }
          ],
          "scattercarpet": [
           {
            "marker": {
             "colorbar": {
              "outlinewidth": 0,
              "ticks": ""
             }
            },
            "type": "scattercarpet"
           }
          ],
          "scattergeo": [
           {
            "marker": {
             "colorbar": {
              "outlinewidth": 0,
              "ticks": ""
             }
            },
            "type": "scattergeo"
           }
          ],
          "scattergl": [
           {
            "marker": {
             "colorbar": {
              "outlinewidth": 0,
              "ticks": ""
             }
            },
            "type": "scattergl"
           }
          ],
          "scattermap": [
           {
            "marker": {
             "colorbar": {
              "outlinewidth": 0,
              "ticks": ""
             }
            },
            "type": "scattermap"
           }
          ],
          "scattermapbox": [
           {
            "marker": {
             "colorbar": {
              "outlinewidth": 0,
              "ticks": ""
             }
            },
            "type": "scattermapbox"
           }
          ],
          "scatterpolar": [
           {
            "marker": {
             "colorbar": {
              "outlinewidth": 0,
              "ticks": ""
             }
            },
            "type": "scatterpolar"
           }
          ],
          "scatterpolargl": [
           {
            "marker": {
             "colorbar": {
              "outlinewidth": 0,
              "ticks": ""
             }
            },
            "type": "scatterpolargl"
           }
          ],
          "scatterternary": [
           {
            "marker": {
             "colorbar": {
              "outlinewidth": 0,
              "ticks": ""
             }
            },
            "type": "scatterternary"
           }
          ],
          "surface": [
           {
            "colorbar": {
             "outlinewidth": 0,
             "ticks": ""
            },
            "colorscale": [
             [
              0,
              "#0d0887"
             ],
             [
              0.1111111111111111,
              "#46039f"
             ],
             [
              0.2222222222222222,
              "#7201a8"
             ],
             [
              0.3333333333333333,
              "#9c179e"
             ],
             [
              0.4444444444444444,
              "#bd3786"
             ],
             [
              0.5555555555555556,
              "#d8576b"
             ],
             [
              0.6666666666666666,
              "#ed7953"
             ],
             [
              0.7777777777777778,
              "#fb9f3a"
             ],
             [
              0.8888888888888888,
              "#fdca26"
             ],
             [
              1,
              "#f0f921"
             ]
            ],
            "type": "surface"
           }
          ],
          "table": [
           {
            "cells": {
             "fill": {
              "color": "#EBF0F8"
             },
             "line": {
              "color": "white"
             }
            },
            "header": {
             "fill": {
              "color": "#C8D4E3"
             },
             "line": {
              "color": "white"
             }
            },
            "type": "table"
           }
          ]
         },
         "layout": {
          "annotationdefaults": {
           "arrowcolor": "#2a3f5f",
           "arrowhead": 0,
           "arrowwidth": 1
          },
          "autotypenumbers": "strict",
          "coloraxis": {
           "colorbar": {
            "outlinewidth": 0,
            "ticks": ""
           }
          },
          "colorscale": {
           "diverging": [
            [
             0,
             "#8e0152"
            ],
            [
             0.1,
             "#c51b7d"
            ],
            [
             0.2,
             "#de77ae"
            ],
            [
             0.3,
             "#f1b6da"
            ],
            [
             0.4,
             "#fde0ef"
            ],
            [
             0.5,
             "#f7f7f7"
            ],
            [
             0.6,
             "#e6f5d0"
            ],
            [
             0.7,
             "#b8e186"
            ],
            [
             0.8,
             "#7fbc41"
            ],
            [
             0.9,
             "#4d9221"
            ],
            [
             1,
             "#276419"
            ]
           ],
           "sequential": [
            [
             0,
             "#0d0887"
            ],
            [
             0.1111111111111111,
             "#46039f"
            ],
            [
             0.2222222222222222,
             "#7201a8"
            ],
            [
             0.3333333333333333,
             "#9c179e"
            ],
            [
             0.4444444444444444,
             "#bd3786"
            ],
            [
             0.5555555555555556,
             "#d8576b"
            ],
            [
             0.6666666666666666,
             "#ed7953"
            ],
            [
             0.7777777777777778,
             "#fb9f3a"
            ],
            [
             0.8888888888888888,
             "#fdca26"
            ],
            [
             1,
             "#f0f921"
            ]
           ],
           "sequentialminus": [
            [
             0,
             "#0d0887"
            ],
            [
             0.1111111111111111,
             "#46039f"
            ],
            [
             0.2222222222222222,
             "#7201a8"
            ],
            [
             0.3333333333333333,
             "#9c179e"
            ],
            [
             0.4444444444444444,
             "#bd3786"
            ],
            [
             0.5555555555555556,
             "#d8576b"
            ],
            [
             0.6666666666666666,
             "#ed7953"
            ],
            [
             0.7777777777777778,
             "#fb9f3a"
            ],
            [
             0.8888888888888888,
             "#fdca26"
            ],
            [
             1,
             "#f0f921"
            ]
           ]
          },
          "colorway": [
           "#636efa",
           "#EF553B",
           "#00cc96",
           "#ab63fa",
           "#FFA15A",
           "#19d3f3",
           "#FF6692",
           "#B6E880",
           "#FF97FF",
           "#FECB52"
          ],
          "font": {
           "color": "#2a3f5f"
          },
          "geo": {
           "bgcolor": "white",
           "lakecolor": "white",
           "landcolor": "#E5ECF6",
           "showlakes": true,
           "showland": true,
           "subunitcolor": "white"
          },
          "hoverlabel": {
           "align": "left"
          },
          "hovermode": "closest",
          "mapbox": {
           "style": "light"
          },
          "paper_bgcolor": "white",
          "plot_bgcolor": "#E5ECF6",
          "polar": {
           "angularaxis": {
            "gridcolor": "white",
            "linecolor": "white",
            "ticks": ""
           },
           "bgcolor": "#E5ECF6",
           "radialaxis": {
            "gridcolor": "white",
            "linecolor": "white",
            "ticks": ""
           }
          },
          "scene": {
           "xaxis": {
            "backgroundcolor": "#E5ECF6",
            "gridcolor": "white",
            "gridwidth": 2,
            "linecolor": "white",
            "showbackground": true,
            "ticks": "",
            "zerolinecolor": "white"
           },
           "yaxis": {
            "backgroundcolor": "#E5ECF6",
            "gridcolor": "white",
            "gridwidth": 2,
            "linecolor": "white",
            "showbackground": true,
            "ticks": "",
            "zerolinecolor": "white"
           },
           "zaxis": {
            "backgroundcolor": "#E5ECF6",
            "gridcolor": "white",
            "gridwidth": 2,
            "linecolor": "white",
            "showbackground": true,
            "ticks": "",
            "zerolinecolor": "white"
           }
          },
          "shapedefaults": {
           "line": {
            "color": "#2a3f5f"
           }
          },
          "ternary": {
           "aaxis": {
            "gridcolor": "white",
            "linecolor": "white",
            "ticks": ""
           },
           "baxis": {
            "gridcolor": "white",
            "linecolor": "white",
            "ticks": ""
           },
           "bgcolor": "#E5ECF6",
           "caxis": {
            "gridcolor": "white",
            "linecolor": "white",
            "ticks": ""
           }
          },
          "title": {
           "x": 0.05
          },
          "xaxis": {
           "automargin": true,
           "gridcolor": "white",
           "linecolor": "white",
           "ticks": "",
           "title": {
            "standoff": 15
           },
           "zerolinecolor": "white",
           "zerolinewidth": 2
          },
          "yaxis": {
           "automargin": true,
           "gridcolor": "white",
           "linecolor": "white",
           "ticks": "",
           "title": {
            "standoff": 15
           },
           "zerolinecolor": "white",
           "zerolinewidth": 2
          }
         }
        },
        "title": {
         "text": "Monthly Beer Consumption Over Time"
        },
        "xaxis": {
         "anchor": "y",
         "domain": [
          0,
          1
         ],
         "title": {
          "text": "Date"
         }
        },
        "yaxis": {
         "anchor": "x",
         "domain": [
          0,
          1
         ],
         "tickformat": ",",
         "title": {
          "text": "Beer Consumption (liters)"
         }
        }
       }
      }
     },
     "metadata": {},
     "output_type": "display_data"
    }
   ],
   "source": [
    "df.columns = df.columns.str.strip()\n",
    "df['Time'] = pd.to_datetime(df['Time'], format=\"%b '%y\")\n",
    "df = df.sort_values('Time')\n",
    "\n",
    "# Plot interactive line chart\n",
    "fig = px.line(df, x='Time', y='Beer Consumption  (lt)', markers=True,\n",
    "              title='Monthly Beer Consumption Over Time',\n",
    "              labels={'Beer Consumption  (lt)': 'Beer Consumption (liters)', 'Time': 'Date'})\n",
    "\n",
    "# Format y-axis to show full numbers with commas\n",
    "fig.update_layout(yaxis_tickformat=\",\") \n",
    "\n",
    "fig.show()\n"
   ]
  },
  {
   "cell_type": "code",
   "execution_count": 48,
   "id": "8dcf08fe",
   "metadata": {},
   "outputs": [
    {
     "name": "stdout",
     "output_type": "stream",
     "text": [
      "Observation:\n",
      "\n",
      "1. Strong Seasonality\n",
      "   a. There is a repeating annual cycle where beer consumption spikes every year.\n",
      "   b. Peaks consistently occur around mid-year (likely summer months: June–August).\n",
      "   c. Lows consistently occur around end or beginning of each year (likely winter months: December–February).\n",
      "      So we can say that beer is more popular in warmer months.\n",
      "\n",
      "2. Upward Trend\n",
      "   The peak consumption values increase over time: In 1987–1988, peaks are around 30 million liters,\n",
      "   and by 1993, they exceed 70 million liters.\n",
      "   So, overall beer demand is growing — could be due to population growth or increased tourism.\n",
      "\n",
      "3. Year-over-Year Consistency\n",
      "   Every year shows a clear rise and fall pattern.\n",
      "\n",
      "4. Sharp Transitions\n",
      "   There are sharp increases leading into summer and rapid drops afterward.\n",
      "   Consumption doesn’t taper gradually — it spikes up and down;\n",
      "   this may be due to Ramadaan holidays (in some years, we can see a sudden spike after Ramadaan ends).\n",
      "\n"
     ]
    }
   ],
   "source": [
    "print(\"\"\"Observation:\n",
    "\n",
    "1. Strong Seasonality\n",
    "   a. There is a repeating annual cycle where beer consumption spikes every year.\n",
    "   b. Peaks consistently occur around mid-year (likely summer months: June–August).\n",
    "   c. Lows consistently occur around end or beginning of each year (likely winter months: December–February).\n",
    "      So we can say that beer is more popular in warmer months.\n",
    "\n",
    "2. Upward Trend\n",
    "   The peak consumption values increase over time: In 1987–1988, peaks are around 30 million liters,\n",
    "   and by 1993, they exceed 70 million liters.\n",
    "   So, overall beer demand is growing — could be due to population growth or increased tourism.\n",
    "\n",
    "3. Year-over-Year Consistency\n",
    "   Every year shows a clear rise and fall pattern.\n",
    "\n",
    "4. Sharp Transitions\n",
    "   There are sharp increases leading into summer and rapid drops afterward.\n",
    "   Consumption doesn’t taper gradually — it spikes up and down;\n",
    "   this may be due to Ramadaan holidays (in some years, we can see a sudden spike after Ramadaan ends).\n",
    "\"\"\")\n"
   ]
  },
  {
   "cell_type": "code",
   "execution_count": 49,
   "id": "f8d31feb",
   "metadata": {},
   "outputs": [],
   "source": [
    "tourism_df = pd.read_csv('tableA4.csv')\n",
    "\n",
    "# Clean column names if needed\n",
    "tourism_df.columns = tourism_df.columns.str.strip()\n",
    "\n",
    "# Create Year and Month columns in df to join with tourism_df\n",
    "df['Year'] = df['Time'].dt.year\n",
    "df['Month'] = df['Time'].dt.month\n",
    "\n",
    "\n",
    "# Months are text, so convert them:\n",
    "tourism_df['Month'] = tourism_df['Month'].map({'January':1, 'February':2, 'March':3, 'April':4, 'May':5, 'June':6, 'July':7, 'August': 8, 'September': 9, 'October':10, 'November': 11,\n",
    "                                               'December':12})"
   ]
  },
  {
   "cell_type": "code",
   "execution_count": 50,
   "id": "0f4f11b1",
   "metadata": {},
   "outputs": [],
   "source": [
    "import numpy as np\n",
    "import statsmodels.api as sm"
   ]
  },
  {
   "cell_type": "code",
   "execution_count": 55,
   "id": "e08982fb",
   "metadata": {},
   "outputs": [
    {
     "data": {
      "text/html": [
       "<div>\n",
       "<style scoped>\n",
       "    .dataframe tbody tr th:only-of-type {\n",
       "        vertical-align: middle;\n",
       "    }\n",
       "\n",
       "    .dataframe tbody tr th {\n",
       "        vertical-align: top;\n",
       "    }\n",
       "\n",
       "    .dataframe thead th {\n",
       "        text-align: right;\n",
       "    }\n",
       "</style>\n",
       "<table border=\"1\" class=\"dataframe\">\n",
       "  <thead>\n",
       "    <tr style=\"text-align: right;\">\n",
       "      <th></th>\n",
       "      <th>Country</th>\n",
       "      <th>Beer_Consumption_Liters_per_Capita</th>\n",
       "    </tr>\n",
       "  </thead>\n",
       "  <tbody>\n",
       "    <tr>\n",
       "      <th>0</th>\n",
       "      <td>Czechoslovakia</td>\n",
       "      <td>163</td>\n",
       "    </tr>\n",
       "    <tr>\n",
       "      <th>1</th>\n",
       "      <td>Germany</td>\n",
       "      <td>138</td>\n",
       "    </tr>\n",
       "    <tr>\n",
       "      <th>2</th>\n",
       "      <td>Denmark</td>\n",
       "      <td>126</td>\n",
       "    </tr>\n",
       "    <tr>\n",
       "      <th>3</th>\n",
       "      <td>Austria</td>\n",
       "      <td>118</td>\n",
       "    </tr>\n",
       "    <tr>\n",
       "      <th>4</th>\n",
       "      <td>Ireland</td>\n",
       "      <td>113</td>\n",
       "    </tr>\n",
       "  </tbody>\n",
       "</table>\n",
       "</div>"
      ],
      "text/plain": [
       "          Country  Beer_Consumption_Liters_per_Capita\n",
       "0  Czechoslovakia                                 163\n",
       "1         Germany                                 138\n",
       "2         Denmark                                 126\n",
       "3         Austria                                 118\n",
       "4         Ireland                                 113"
      ]
     },
     "execution_count": 55,
     "metadata": {},
     "output_type": "execute_result"
    }
   ],
   "source": [
    "import pandas as pd\n",
    "\n",
    "# Define beer consumption data\n",
    "beer_data = {\n",
    "    'Country': [\n",
    "        'Czechoslovakia', 'Germany', 'Denmark', 'Austria', 'Ireland',\n",
    "        'Belgium', 'United Kingdom', 'Luxembourg', 'Australia', 'United States',\n",
    "        'The Netherlands', 'Finland', 'Venezuela', 'Canada', 'Sweden',\n",
    "        'Spain', 'Portugal', 'Japan', 'South Africa', 'Norway',\n",
    "        'Mexico', 'Columbia', 'France', 'Korea', 'China Hong Kong',\n",
    "        'Italy', 'China Taiwan', 'China'\n",
    "    ],\n",
    "    'Beer_Consumption_Liters_per_Capita': [\n",
    "        163, 138, 126, 118, 113,\n",
    "        108, 100, 104, 96, 86,\n",
    "        85, 86, 77, 71, 64,\n",
    "        67, 64, 56, 55, 50,\n",
    "        47, 41, 39, 34, 28,\n",
    "        25, 23, 10\n",
    "    ]\n",
    "}\n",
    "\n",
    "# Create DataFrame\n",
    "beer_df = pd.DataFrame(beer_data)\n",
    "\n",
    "beer_df.head()\n"
   ]
  },
  {
   "cell_type": "code",
   "execution_count": 56,
   "id": "7e1408a8",
   "metadata": {},
   "outputs": [],
   "source": [
    "# Define the countries in tourism data\n",
    "countries = ['Czechoslovakia', 'Germany', 'The United Kingdom', 'The United States', 'France', 'Others (Total)']\n",
    "# Create a mapping dictionary\n",
    "beer_per_capita = {\n",
    "    'Czechoslovakia': beer_df.loc[beer_df['Country'] == 'Czechoslovakia', 'Beer_Consumption_Liters_per_Capita'].values[0],\n",
    "    'Germany': beer_df.loc[beer_df['Country'] == 'Germany', 'Beer_Consumption_Liters_per_Capita'].values[0],\n",
    "    'The United Kingdom': beer_df.loc[beer_df['Country'] == 'United Kingdom', 'Beer_Consumption_Liters_per_Capita'].values[0],\n",
    "    'The United States': beer_df.loc[beer_df['Country'] == 'United States', 'Beer_Consumption_Liters_per_Capita'].values[0],\n",
    "    'France': beer_df.loc[beer_df['Country'] == 'France', 'Beer_Consumption_Liters_per_Capita'].values[0]\n",
    "}\n",
    "\n",
    "\n",
    "\n",
    "# Filter out named countries from beer_df\n",
    "others_df = beer_df[~beer_df['Country'].isin(countries)]\n",
    "\n",
    "# Compute the average beer consumption for 'Others (Total)'\n",
    "beer_per_capita['Others (Total)'] = others_df['Beer_Consumption_Liters_per_Capita'].mean()\n",
    "\n",
    "tourism_df['Tourism_Factor'] = (\n",
    "    tourism_df['Czechoslovakia'] * beer_per_capita['Czechoslovakia'] +\n",
    "    tourism_df['Germany'] * beer_per_capita['Germany'] +\n",
    "    tourism_df['The United Kingdom'] * beer_per_capita['The United Kingdom'] +\n",
    "    tourism_df['The United States'] * beer_per_capita['The United States'] +\n",
    "    tourism_df['France'] * beer_per_capita['France'] +\n",
    "    tourism_df['Others (Total)'] * beer_per_capita['Others (Total)']\n",
    ")"
   ]
  },
  {
   "cell_type": "code",
   "execution_count": 57,
   "id": "ef8be224",
   "metadata": {},
   "outputs": [
    {
     "data": {
      "text/html": [
       "<div>\n",
       "<style scoped>\n",
       "    .dataframe tbody tr th:only-of-type {\n",
       "        vertical-align: middle;\n",
       "    }\n",
       "\n",
       "    .dataframe tbody tr th {\n",
       "        vertical-align: top;\n",
       "    }\n",
       "\n",
       "    .dataframe thead th {\n",
       "        text-align: right;\n",
       "    }\n",
       "</style>\n",
       "<table border=\"1\" class=\"dataframe\">\n",
       "  <thead>\n",
       "    <tr style=\"text-align: right;\">\n",
       "      <th></th>\n",
       "      <th>Year</th>\n",
       "      <th>Month</th>\n",
       "      <th>Czechoslovakia</th>\n",
       "      <th>Germany</th>\n",
       "      <th>The United Kingdom</th>\n",
       "      <th>The United States</th>\n",
       "      <th>France</th>\n",
       "      <th>Others (Total)</th>\n",
       "      <th>Tourism_Factor</th>\n",
       "      <th>Date</th>\n",
       "    </tr>\n",
       "  </thead>\n",
       "  <tbody>\n",
       "    <tr>\n",
       "      <th>0</th>\n",
       "      <td>1987</td>\n",
       "      <td>1</td>\n",
       "      <td>290</td>\n",
       "      <td>28056</td>\n",
       "      <td>11380</td>\n",
       "      <td>25060</td>\n",
       "      <td>9246</td>\n",
       "      <td>35135</td>\n",
       "      <td>10009715.60</td>\n",
       "      <td>1987-01-01</td>\n",
       "    </tr>\n",
       "    <tr>\n",
       "      <th>1</th>\n",
       "      <td>1987</td>\n",
       "      <td>2</td>\n",
       "      <td>253</td>\n",
       "      <td>29715</td>\n",
       "      <td>20630</td>\n",
       "      <td>21648</td>\n",
       "      <td>11941</td>\n",
       "      <td>38488</td>\n",
       "      <td>11201863.68</td>\n",
       "      <td>1987-02-01</td>\n",
       "    </tr>\n",
       "    <tr>\n",
       "      <th>2</th>\n",
       "      <td>1987</td>\n",
       "      <td>3</td>\n",
       "      <td>478</td>\n",
       "      <td>67370</td>\n",
       "      <td>30506</td>\n",
       "      <td>30386</td>\n",
       "      <td>15810</td>\n",
       "      <td>53071</td>\n",
       "      <td>19336364.56</td>\n",
       "      <td>1987-03-01</td>\n",
       "    </tr>\n",
       "  </tbody>\n",
       "</table>\n",
       "</div>"
      ],
      "text/plain": [
       "   Year  Month  Czechoslovakia  Germany  The United Kingdom  \\\n",
       "0  1987      1             290    28056               11380   \n",
       "1  1987      2             253    29715               20630   \n",
       "2  1987      3             478    67370               30506   \n",
       "\n",
       "   The United States  France  Others (Total)  Tourism_Factor       Date  \n",
       "0              25060    9246           35135     10009715.60 1987-01-01  \n",
       "1              21648   11941           38488     11201863.68 1987-02-01  \n",
       "2              30386   15810           53071     19336364.56 1987-03-01  "
      ]
     },
     "execution_count": 57,
     "metadata": {},
     "output_type": "execute_result"
    }
   ],
   "source": [
    "tourism_df.head(3)"
   ]
  },
  {
   "cell_type": "code",
   "execution_count": 58,
   "id": "aa13abd1",
   "metadata": {},
   "outputs": [],
   "source": [
    "# Clean the Month and Year columns\n",
    "tourism_df['Month'] = tourism_df['Month'].astype(str).str.replace('.0', '', regex=False).astype(int)\n",
    "tourism_df['Year'] = tourism_df['Year'].astype(str).str.replace('.0', '', regex=False).astype(int)\n",
    "\n",
    "# Create the Date column (assume day = 1)\n",
    "tourism_df['Date'] = pd.to_datetime(tourism_df[['Year', 'Month']].assign(DAY=1))\n"
   ]
  },
  {
   "cell_type": "code",
   "execution_count": 59,
   "id": "eadad59c",
   "metadata": {},
   "outputs": [
    {
     "data": {
      "text/html": [
       "<div>\n",
       "<style scoped>\n",
       "    .dataframe tbody tr th:only-of-type {\n",
       "        vertical-align: middle;\n",
       "    }\n",
       "\n",
       "    .dataframe tbody tr th {\n",
       "        vertical-align: top;\n",
       "    }\n",
       "\n",
       "    .dataframe thead th {\n",
       "        text-align: right;\n",
       "    }\n",
       "</style>\n",
       "<table border=\"1\" class=\"dataframe\">\n",
       "  <thead>\n",
       "    <tr style=\"text-align: right;\">\n",
       "      <th></th>\n",
       "      <th>Year</th>\n",
       "      <th>Month</th>\n",
       "      <th>Czechoslovakia</th>\n",
       "      <th>Germany</th>\n",
       "      <th>The United Kingdom</th>\n",
       "      <th>The United States</th>\n",
       "      <th>France</th>\n",
       "      <th>Others (Total)</th>\n",
       "      <th>Tourism_Factor</th>\n",
       "      <th>Date</th>\n",
       "    </tr>\n",
       "  </thead>\n",
       "  <tbody>\n",
       "    <tr>\n",
       "      <th>0</th>\n",
       "      <td>1987</td>\n",
       "      <td>1</td>\n",
       "      <td>290</td>\n",
       "      <td>28056</td>\n",
       "      <td>11380</td>\n",
       "      <td>25060</td>\n",
       "      <td>9246</td>\n",
       "      <td>35135</td>\n",
       "      <td>1.000972e+07</td>\n",
       "      <td>1987-01-01</td>\n",
       "    </tr>\n",
       "    <tr>\n",
       "      <th>1</th>\n",
       "      <td>1987</td>\n",
       "      <td>2</td>\n",
       "      <td>253</td>\n",
       "      <td>29715</td>\n",
       "      <td>20630</td>\n",
       "      <td>21648</td>\n",
       "      <td>11941</td>\n",
       "      <td>38488</td>\n",
       "      <td>1.120186e+07</td>\n",
       "      <td>1987-02-01</td>\n",
       "    </tr>\n",
       "    <tr>\n",
       "      <th>2</th>\n",
       "      <td>1987</td>\n",
       "      <td>3</td>\n",
       "      <td>478</td>\n",
       "      <td>67370</td>\n",
       "      <td>30506</td>\n",
       "      <td>30386</td>\n",
       "      <td>15810</td>\n",
       "      <td>53071</td>\n",
       "      <td>1.933636e+07</td>\n",
       "      <td>1987-03-01</td>\n",
       "    </tr>\n",
       "    <tr>\n",
       "      <th>3</th>\n",
       "      <td>1987</td>\n",
       "      <td>4</td>\n",
       "      <td>1025</td>\n",
       "      <td>271147</td>\n",
       "      <td>70016</td>\n",
       "      <td>43137</td>\n",
       "      <td>94247</td>\n",
       "      <td>141639</td>\n",
       "      <td>6.179646e+07</td>\n",
       "      <td>1987-04-01</td>\n",
       "    </tr>\n",
       "    <tr>\n",
       "      <th>4</th>\n",
       "      <td>1987</td>\n",
       "      <td>5</td>\n",
       "      <td>2776</td>\n",
       "      <td>405921</td>\n",
       "      <td>165298</td>\n",
       "      <td>69696</td>\n",
       "      <td>155816</td>\n",
       "      <td>225780</td>\n",
       "      <td>1.007302e+08</td>\n",
       "      <td>1987-05-01</td>\n",
       "    </tr>\n",
       "    <tr>\n",
       "      <th>5</th>\n",
       "      <td>1987</td>\n",
       "      <td>6</td>\n",
       "      <td>8785</td>\n",
       "      <td>381631</td>\n",
       "      <td>232010</td>\n",
       "      <td>109948</td>\n",
       "      <td>121463</td>\n",
       "      <td>308797</td>\n",
       "      <td>1.129088e+08</td>\n",
       "      <td>1987-06-01</td>\n",
       "    </tr>\n",
       "    <tr>\n",
       "      <th>6</th>\n",
       "      <td>1987</td>\n",
       "      <td>7</td>\n",
       "      <td>3237</td>\n",
       "      <td>373879</td>\n",
       "      <td>210241</td>\n",
       "      <td>83961</td>\n",
       "      <td>134242</td>\n",
       "      <td>398464</td>\n",
       "      <td>1.132406e+08</td>\n",
       "      <td>1987-07-01</td>\n",
       "    </tr>\n",
       "    <tr>\n",
       "      <th>7</th>\n",
       "      <td>1987</td>\n",
       "      <td>8</td>\n",
       "      <td>3282</td>\n",
       "      <td>402119</td>\n",
       "      <td>216347</td>\n",
       "      <td>85511</td>\n",
       "      <td>144832</td>\n",
       "      <td>444706</td>\n",
       "      <td>1.215093e+08</td>\n",
       "      <td>1987-08-01</td>\n",
       "    </tr>\n",
       "    <tr>\n",
       "      <th>8</th>\n",
       "      <td>1987</td>\n",
       "      <td>9</td>\n",
       "      <td>10501</td>\n",
       "      <td>421316</td>\n",
       "      <td>263963</td>\n",
       "      <td>91515</td>\n",
       "      <td>108564</td>\n",
       "      <td>346902</td>\n",
       "      <td>1.224150e+08</td>\n",
       "      <td>1987-09-01</td>\n",
       "    </tr>\n",
       "    <tr>\n",
       "      <th>9</th>\n",
       "      <td>1987</td>\n",
       "      <td>10</td>\n",
       "      <td>6286</td>\n",
       "      <td>365320</td>\n",
       "      <td>189557</td>\n",
       "      <td>88835</td>\n",
       "      <td>59556</td>\n",
       "      <td>230538</td>\n",
       "      <td>9.634709e+07</td>\n",
       "      <td>1987-10-01</td>\n",
       "    </tr>\n",
       "  </tbody>\n",
       "</table>\n",
       "</div>"
      ],
      "text/plain": [
       "   Year  Month  Czechoslovakia  Germany  The United Kingdom  \\\n",
       "0  1987      1             290    28056               11380   \n",
       "1  1987      2             253    29715               20630   \n",
       "2  1987      3             478    67370               30506   \n",
       "3  1987      4            1025   271147               70016   \n",
       "4  1987      5            2776   405921              165298   \n",
       "5  1987      6            8785   381631              232010   \n",
       "6  1987      7            3237   373879              210241   \n",
       "7  1987      8            3282   402119              216347   \n",
       "8  1987      9           10501   421316              263963   \n",
       "9  1987     10            6286   365320              189557   \n",
       "\n",
       "   The United States  France  Others (Total)  Tourism_Factor       Date  \n",
       "0              25060    9246           35135    1.000972e+07 1987-01-01  \n",
       "1              21648   11941           38488    1.120186e+07 1987-02-01  \n",
       "2              30386   15810           53071    1.933636e+07 1987-03-01  \n",
       "3              43137   94247          141639    6.179646e+07 1987-04-01  \n",
       "4              69696  155816          225780    1.007302e+08 1987-05-01  \n",
       "5             109948  121463          308797    1.129088e+08 1987-06-01  \n",
       "6              83961  134242          398464    1.132406e+08 1987-07-01  \n",
       "7              85511  144832          444706    1.215093e+08 1987-08-01  \n",
       "8              91515  108564          346902    1.224150e+08 1987-09-01  \n",
       "9              88835   59556          230538    9.634709e+07 1987-10-01  "
      ]
     },
     "execution_count": 59,
     "metadata": {},
     "output_type": "execute_result"
    }
   ],
   "source": [
    "tourism_df.head(10)"
   ]
  },
  {
   "cell_type": "code",
   "execution_count": 63,
   "id": "35740050",
   "metadata": {},
   "outputs": [],
   "source": [
    "df['Date']=df['Time']"
   ]
  },
  {
   "cell_type": "code",
   "execution_count": 66,
   "id": "cb276e9a",
   "metadata": {},
   "outputs": [],
   "source": [
    "merged_df = pd.merge(df, tourism_df, on='Date')\n",
    "merged_df = merged_df.sort_values('Date').reset_index(drop=True)"
   ]
  },
  {
   "cell_type": "code",
   "execution_count": 67,
   "id": "87dbde37",
   "metadata": {},
   "outputs": [
    {
     "data": {
      "text/html": [
       "<div>\n",
       "<style scoped>\n",
       "    .dataframe tbody tr th:only-of-type {\n",
       "        vertical-align: middle;\n",
       "    }\n",
       "\n",
       "    .dataframe tbody tr th {\n",
       "        vertical-align: top;\n",
       "    }\n",
       "\n",
       "    .dataframe thead th {\n",
       "        text-align: right;\n",
       "    }\n",
       "</style>\n",
       "<table border=\"1\" class=\"dataframe\">\n",
       "  <thead>\n",
       "    <tr style=\"text-align: right;\">\n",
       "      <th></th>\n",
       "      <th>Time</th>\n",
       "      <th>Beer Consumption  (lt)</th>\n",
       "      <th>Average Beer Price</th>\n",
       "      <th>Average Raki Price*</th>\n",
       "      <th>Average Canned Soft Drink Price*</th>\n",
       "      <th>Average Canned Beer Price</th>\n",
       "      <th>Average Draft Beer Price</th>\n",
       "      <th>Year_x</th>\n",
       "      <th>Month_x</th>\n",
       "      <th>Date</th>\n",
       "      <th>Year_y</th>\n",
       "      <th>Month_y</th>\n",
       "      <th>Czechoslovakia</th>\n",
       "      <th>Germany</th>\n",
       "      <th>The United Kingdom</th>\n",
       "      <th>The United States</th>\n",
       "      <th>France</th>\n",
       "      <th>Others (Total)</th>\n",
       "      <th>Tourism_Factor</th>\n",
       "    </tr>\n",
       "  </thead>\n",
       "  <tbody>\n",
       "    <tr>\n",
       "      <th>0</th>\n",
       "      <td>1987-01-01</td>\n",
       "      <td>13621800.0</td>\n",
       "      <td>1338.42</td>\n",
       "      <td>9715.74</td>\n",
       "      <td>2208.12</td>\n",
       "      <td>2671.75</td>\n",
       "      <td>971.57</td>\n",
       "      <td>1987</td>\n",
       "      <td>1</td>\n",
       "      <td>1987-01-01</td>\n",
       "      <td>1987</td>\n",
       "      <td>1</td>\n",
       "      <td>290</td>\n",
       "      <td>28056</td>\n",
       "      <td>11380</td>\n",
       "      <td>25060</td>\n",
       "      <td>9246</td>\n",
       "      <td>35135</td>\n",
       "      <td>10009715.60</td>\n",
       "    </tr>\n",
       "    <tr>\n",
       "      <th>1</th>\n",
       "      <td>1987-02-01</td>\n",
       "      <td>14346944.0</td>\n",
       "      <td>1314.44</td>\n",
       "      <td>9460.31</td>\n",
       "      <td>2150.07</td>\n",
       "      <td>2866.48</td>\n",
       "      <td>946.03</td>\n",
       "      <td>1987</td>\n",
       "      <td>2</td>\n",
       "      <td>1987-02-01</td>\n",
       "      <td>1987</td>\n",
       "      <td>2</td>\n",
       "      <td>253</td>\n",
       "      <td>29715</td>\n",
       "      <td>20630</td>\n",
       "      <td>21648</td>\n",
       "      <td>11941</td>\n",
       "      <td>38488</td>\n",
       "      <td>11201863.68</td>\n",
       "    </tr>\n",
       "    <tr>\n",
       "      <th>2</th>\n",
       "      <td>1987-03-01</td>\n",
       "      <td>14912839.0</td>\n",
       "      <td>1267.54</td>\n",
       "      <td>9122.77</td>\n",
       "      <td>2073.36</td>\n",
       "      <td>2764.20</td>\n",
       "      <td>912.28</td>\n",
       "      <td>1987</td>\n",
       "      <td>3</td>\n",
       "      <td>1987-03-01</td>\n",
       "      <td>1987</td>\n",
       "      <td>3</td>\n",
       "      <td>478</td>\n",
       "      <td>67370</td>\n",
       "      <td>30506</td>\n",
       "      <td>30386</td>\n",
       "      <td>15810</td>\n",
       "      <td>53071</td>\n",
       "      <td>19336364.56</td>\n",
       "    </tr>\n",
       "  </tbody>\n",
       "</table>\n",
       "</div>"
      ],
      "text/plain": [
       "        Time  Beer Consumption  (lt)  Average Beer Price  Average Raki Price*  \\\n",
       "0 1987-01-01              13621800.0             1338.42              9715.74   \n",
       "1 1987-02-01              14346944.0             1314.44              9460.31   \n",
       "2 1987-03-01              14912839.0             1267.54              9122.77   \n",
       "\n",
       "   Average Canned Soft Drink Price*  Average Canned Beer Price  \\\n",
       "0                           2208.12                    2671.75   \n",
       "1                           2150.07                    2866.48   \n",
       "2                           2073.36                    2764.20   \n",
       "\n",
       "   Average Draft Beer Price  Year_x  Month_x       Date  Year_y  Month_y  \\\n",
       "0                    971.57    1987        1 1987-01-01    1987        1   \n",
       "1                    946.03    1987        2 1987-02-01    1987        2   \n",
       "2                    912.28    1987        3 1987-03-01    1987        3   \n",
       "\n",
       "   Czechoslovakia  Germany  The United Kingdom  The United States  France  \\\n",
       "0             290    28056               11380              25060    9246   \n",
       "1             253    29715               20630              21648   11941   \n",
       "2             478    67370               30506              30386   15810   \n",
       "\n",
       "   Others (Total)  Tourism_Factor  \n",
       "0           35135     10009715.60  \n",
       "1           38488     11201863.68  \n",
       "2           53071     19336364.56  "
      ]
     },
     "execution_count": 67,
     "metadata": {},
     "output_type": "execute_result"
    }
   ],
   "source": [
    "merged_df.head(3)"
   ]
  },
  {
   "cell_type": "code",
   "execution_count": 70,
   "id": "1656c33b",
   "metadata": {},
   "outputs": [],
   "source": [
    "merged_df=merged_df.drop(columns=['Year_x','Year_y','Month_x','Month_y'])\n",
    "# Add trend and month\n",
    "merged_df['Trend'] = range(1, len(merged_df) + 1)\n",
    "merged_df['Month'] = merged_df['Date'].dt.month_name()"
   ]
  },
  {
   "cell_type": "code",
   "execution_count": 71,
   "id": "717b14c8",
   "metadata": {},
   "outputs": [
    {
     "data": {
      "text/html": [
       "<div>\n",
       "<style scoped>\n",
       "    .dataframe tbody tr th:only-of-type {\n",
       "        vertical-align: middle;\n",
       "    }\n",
       "\n",
       "    .dataframe tbody tr th {\n",
       "        vertical-align: top;\n",
       "    }\n",
       "\n",
       "    .dataframe thead th {\n",
       "        text-align: right;\n",
       "    }\n",
       "</style>\n",
       "<table border=\"1\" class=\"dataframe\">\n",
       "  <thead>\n",
       "    <tr style=\"text-align: right;\">\n",
       "      <th></th>\n",
       "      <th>Time</th>\n",
       "      <th>Beer Consumption  (lt)</th>\n",
       "      <th>Average Beer Price</th>\n",
       "      <th>Average Raki Price*</th>\n",
       "      <th>Average Canned Soft Drink Price*</th>\n",
       "      <th>Average Canned Beer Price</th>\n",
       "      <th>Average Draft Beer Price</th>\n",
       "      <th>Date</th>\n",
       "      <th>Czechoslovakia</th>\n",
       "      <th>Germany</th>\n",
       "      <th>The United Kingdom</th>\n",
       "      <th>The United States</th>\n",
       "      <th>France</th>\n",
       "      <th>Others (Total)</th>\n",
       "      <th>Tourism_Factor</th>\n",
       "      <th>Trend</th>\n",
       "      <th>Month</th>\n",
       "    </tr>\n",
       "  </thead>\n",
       "  <tbody>\n",
       "    <tr>\n",
       "      <th>0</th>\n",
       "      <td>1987-01-01</td>\n",
       "      <td>13621800.0</td>\n",
       "      <td>1338.42</td>\n",
       "      <td>9715.74</td>\n",
       "      <td>2208.12</td>\n",
       "      <td>2671.75</td>\n",
       "      <td>971.57</td>\n",
       "      <td>1987-01-01</td>\n",
       "      <td>290</td>\n",
       "      <td>28056</td>\n",
       "      <td>11380</td>\n",
       "      <td>25060</td>\n",
       "      <td>9246</td>\n",
       "      <td>35135</td>\n",
       "      <td>10009715.60</td>\n",
       "      <td>1</td>\n",
       "      <td>January</td>\n",
       "    </tr>\n",
       "    <tr>\n",
       "      <th>1</th>\n",
       "      <td>1987-02-01</td>\n",
       "      <td>14346944.0</td>\n",
       "      <td>1314.44</td>\n",
       "      <td>9460.31</td>\n",
       "      <td>2150.07</td>\n",
       "      <td>2866.48</td>\n",
       "      <td>946.03</td>\n",
       "      <td>1987-02-01</td>\n",
       "      <td>253</td>\n",
       "      <td>29715</td>\n",
       "      <td>20630</td>\n",
       "      <td>21648</td>\n",
       "      <td>11941</td>\n",
       "      <td>38488</td>\n",
       "      <td>11201863.68</td>\n",
       "      <td>2</td>\n",
       "      <td>February</td>\n",
       "    </tr>\n",
       "    <tr>\n",
       "      <th>2</th>\n",
       "      <td>1987-03-01</td>\n",
       "      <td>14912839.0</td>\n",
       "      <td>1267.54</td>\n",
       "      <td>9122.77</td>\n",
       "      <td>2073.36</td>\n",
       "      <td>2764.20</td>\n",
       "      <td>912.28</td>\n",
       "      <td>1987-03-01</td>\n",
       "      <td>478</td>\n",
       "      <td>67370</td>\n",
       "      <td>30506</td>\n",
       "      <td>30386</td>\n",
       "      <td>15810</td>\n",
       "      <td>53071</td>\n",
       "      <td>19336364.56</td>\n",
       "      <td>3</td>\n",
       "      <td>March</td>\n",
       "    </tr>\n",
       "  </tbody>\n",
       "</table>\n",
       "</div>"
      ],
      "text/plain": [
       "        Time  Beer Consumption  (lt)  Average Beer Price  Average Raki Price*  \\\n",
       "0 1987-01-01              13621800.0             1338.42              9715.74   \n",
       "1 1987-02-01              14346944.0             1314.44              9460.31   \n",
       "2 1987-03-01              14912839.0             1267.54              9122.77   \n",
       "\n",
       "   Average Canned Soft Drink Price*  Average Canned Beer Price  \\\n",
       "0                           2208.12                    2671.75   \n",
       "1                           2150.07                    2866.48   \n",
       "2                           2073.36                    2764.20   \n",
       "\n",
       "   Average Draft Beer Price       Date  Czechoslovakia  Germany  \\\n",
       "0                    971.57 1987-01-01             290    28056   \n",
       "1                    946.03 1987-02-01             253    29715   \n",
       "2                    912.28 1987-03-01             478    67370   \n",
       "\n",
       "   The United Kingdom  The United States  France  Others (Total)  \\\n",
       "0               11380              25060    9246           35135   \n",
       "1               20630              21648   11941           38488   \n",
       "2               30506              30386   15810           53071   \n",
       "\n",
       "   Tourism_Factor  Trend     Month  \n",
       "0     10009715.60      1   January  \n",
       "1     11201863.68      2  February  \n",
       "2     19336364.56      3     March  "
      ]
     },
     "execution_count": 71,
     "metadata": {},
     "output_type": "execute_result"
    }
   ],
   "source": [
    "merged_df.head(3)"
   ]
  },
  {
   "cell_type": "code",
   "execution_count": 75,
   "id": "0c758a56",
   "metadata": {},
   "outputs": [],
   "source": [
    "# Define Ramadan affected months per year\n",
    "ramadan_months = {\n",
    "    1987: [4, 5],\n",
    "    1988: [4, 5],\n",
    "    1989: [4, 5],\n",
    "    1990: [3, 4],\n",
    "    1991: [3, 4],\n",
    "    1992: [3, 4],\n",
    "    1993: [2, 3],\n",
    "    1994: [2, 3],\n",
    "}\n",
    "\n",
    "# Function to assign Ramadan_Effect = 1 or 0\n",
    "def is_ramadan(row):\n",
    "    return int(row['Month'] in ramadan_months.get(row['Year'], []))\n",
    "\n",
    "# Apply to DataFrame\n",
    "df['Ramadan_Effect'] = df.apply(is_ramadan, axis=1)"
   ]
  },
  {
   "cell_type": "code",
   "execution_count": 76,
   "id": "860c1976",
   "metadata": {},
   "outputs": [],
   "source": [
    "merged_df['Ramadan_Effect']= df['Ramadan_Effect']"
   ]
  },
  {
   "cell_type": "code",
   "execution_count": 81,
   "id": "24e59e73",
   "metadata": {},
   "outputs": [],
   "source": [
    "# Map months to season effect values:\n",
    "# 1 → Summer (high consumption)\n",
    "# -1 → Winter (low consumption)\n",
    "# 0 → Neutral (Spring/Autumn)\n",
    "\n",
    "def season_trend(month):\n",
    "    if month in [6, 7, 8]:        # June, July, August\n",
    "        return 1\n",
    "    elif month in [12, 1, 2]:     # December, January, February\n",
    "        return -1\n",
    "    else:                         # March, April, May, September, October, November\n",
    "        return 0\n",
    "\n",
    "merged_df['Season_Trend'] = merged_df['Trend'].apply(season_trend)\n",
    "\n"
   ]
  },
  {
   "cell_type": "code",
   "execution_count": 90,
   "id": "aa3c709b",
   "metadata": {},
   "outputs": [],
   "source": [
    "# Create relative price features\n",
    "merged_df['Raki_to_Beer'] = merged_df['Average Raki Price*'] / merged_df['Average Beer Price']\n",
    "merged_df['SoftDrink_to_Beer'] = merged_df['Average Canned Soft Drink Price*'] / merged_df['Average Canned Beer Price']\n",
    "merged_df['Raki_to_Draft'] = merged_df['Average Raki Price*'] / merged_df['Average Draft Beer Price']\n",
    "merged_df['SoftDrink_to_Draft'] = merged_df['Average Canned Soft Drink Price*'] / merged_df['Average Draft Beer Price']\n",
    "merged_df['Draft_to_Canned_Beer'] = merged_df['Average Draft Beer Price'] / merged_df['Average Canned Beer Price']"
   ]
  },
  {
   "cell_type": "code",
   "execution_count": 91,
   "id": "c875da2f",
   "metadata": {},
   "outputs": [
    {
     "data": {
      "text/html": [
       "<div>\n",
       "<style scoped>\n",
       "    .dataframe tbody tr th:only-of-type {\n",
       "        vertical-align: middle;\n",
       "    }\n",
       "\n",
       "    .dataframe tbody tr th {\n",
       "        vertical-align: top;\n",
       "    }\n",
       "\n",
       "    .dataframe thead th {\n",
       "        text-align: right;\n",
       "    }\n",
       "</style>\n",
       "<table border=\"1\" class=\"dataframe\">\n",
       "  <thead>\n",
       "    <tr style=\"text-align: right;\">\n",
       "      <th></th>\n",
       "      <th>Time</th>\n",
       "      <th>Beer Consumption  (lt)</th>\n",
       "      <th>Average Beer Price</th>\n",
       "      <th>Average Raki Price*</th>\n",
       "      <th>Average Canned Soft Drink Price*</th>\n",
       "      <th>Average Canned Beer Price</th>\n",
       "      <th>Average Draft Beer Price</th>\n",
       "      <th>Date</th>\n",
       "      <th>Czechoslovakia</th>\n",
       "      <th>Germany</th>\n",
       "      <th>...</th>\n",
       "      <th>Tourism_Factor</th>\n",
       "      <th>Trend</th>\n",
       "      <th>Month</th>\n",
       "      <th>Ramadan_Effect</th>\n",
       "      <th>Season_Trend</th>\n",
       "      <th>Raki_to_Draft</th>\n",
       "      <th>SoftDrink_to_Draft</th>\n",
       "      <th>Draft_to_Canned_Beer</th>\n",
       "      <th>Raki_to_Beer</th>\n",
       "      <th>SoftDrink_to_Beer</th>\n",
       "    </tr>\n",
       "  </thead>\n",
       "  <tbody>\n",
       "    <tr>\n",
       "      <th>0</th>\n",
       "      <td>1987-01-01</td>\n",
       "      <td>13621800.0</td>\n",
       "      <td>1338.42</td>\n",
       "      <td>9715.74</td>\n",
       "      <td>2208.12</td>\n",
       "      <td>2671.75</td>\n",
       "      <td>971.57</td>\n",
       "      <td>1987-01-01</td>\n",
       "      <td>290</td>\n",
       "      <td>28056</td>\n",
       "      <td>...</td>\n",
       "      <td>10009715.60</td>\n",
       "      <td>1</td>\n",
       "      <td>January</td>\n",
       "      <td>0</td>\n",
       "      <td>-1</td>\n",
       "      <td>10.000041</td>\n",
       "      <td>2.272734</td>\n",
       "      <td>0.363646</td>\n",
       "      <td>7.259111</td>\n",
       "      <td>0.826470</td>\n",
       "    </tr>\n",
       "    <tr>\n",
       "      <th>1</th>\n",
       "      <td>1987-02-01</td>\n",
       "      <td>14346944.0</td>\n",
       "      <td>1314.44</td>\n",
       "      <td>9460.31</td>\n",
       "      <td>2150.07</td>\n",
       "      <td>2866.48</td>\n",
       "      <td>946.03</td>\n",
       "      <td>1987-02-01</td>\n",
       "      <td>253</td>\n",
       "      <td>29715</td>\n",
       "      <td>...</td>\n",
       "      <td>11201863.68</td>\n",
       "      <td>2</td>\n",
       "      <td>February</td>\n",
       "      <td>0</td>\n",
       "      <td>-1</td>\n",
       "      <td>10.000011</td>\n",
       "      <td>2.272729</td>\n",
       "      <td>0.330032</td>\n",
       "      <td>7.197217</td>\n",
       "      <td>0.750073</td>\n",
       "    </tr>\n",
       "    <tr>\n",
       "      <th>2</th>\n",
       "      <td>1987-03-01</td>\n",
       "      <td>14912839.0</td>\n",
       "      <td>1267.54</td>\n",
       "      <td>9122.77</td>\n",
       "      <td>2073.36</td>\n",
       "      <td>2764.20</td>\n",
       "      <td>912.28</td>\n",
       "      <td>1987-03-01</td>\n",
       "      <td>478</td>\n",
       "      <td>67370</td>\n",
       "      <td>...</td>\n",
       "      <td>19336364.56</td>\n",
       "      <td>3</td>\n",
       "      <td>March</td>\n",
       "      <td>0</td>\n",
       "      <td>0</td>\n",
       "      <td>9.999967</td>\n",
       "      <td>2.272723</td>\n",
       "      <td>0.330034</td>\n",
       "      <td>7.197225</td>\n",
       "      <td>0.750076</td>\n",
       "    </tr>\n",
       "  </tbody>\n",
       "</table>\n",
       "<p>3 rows × 24 columns</p>\n",
       "</div>"
      ],
      "text/plain": [
       "        Time  Beer Consumption  (lt)  Average Beer Price  Average Raki Price*  \\\n",
       "0 1987-01-01              13621800.0             1338.42              9715.74   \n",
       "1 1987-02-01              14346944.0             1314.44              9460.31   \n",
       "2 1987-03-01              14912839.0             1267.54              9122.77   \n",
       "\n",
       "   Average Canned Soft Drink Price*  Average Canned Beer Price  \\\n",
       "0                           2208.12                    2671.75   \n",
       "1                           2150.07                    2866.48   \n",
       "2                           2073.36                    2764.20   \n",
       "\n",
       "   Average Draft Beer Price       Date  Czechoslovakia  Germany  ...  \\\n",
       "0                    971.57 1987-01-01             290    28056  ...   \n",
       "1                    946.03 1987-02-01             253    29715  ...   \n",
       "2                    912.28 1987-03-01             478    67370  ...   \n",
       "\n",
       "   Tourism_Factor  Trend     Month  Ramadan_Effect  Season_Trend  \\\n",
       "0     10009715.60      1   January               0            -1   \n",
       "1     11201863.68      2  February               0            -1   \n",
       "2     19336364.56      3     March               0             0   \n",
       "\n",
       "   Raki_to_Draft SoftDrink_to_Draft  Draft_to_Canned_Beer  Raki_to_Beer  \\\n",
       "0      10.000041           2.272734              0.363646      7.259111   \n",
       "1      10.000011           2.272729              0.330032      7.197217   \n",
       "2       9.999967           2.272723              0.330034      7.197225   \n",
       "\n",
       "   SoftDrink_to_Beer  \n",
       "0           0.826470  \n",
       "1           0.750073  \n",
       "2           0.750076  \n",
       "\n",
       "[3 rows x 24 columns]"
      ]
     },
     "execution_count": 91,
     "metadata": {},
     "output_type": "execute_result"
    }
   ],
   "source": [
    "merged_df.head(3)"
   ]
  },
  {
   "cell_type": "code",
   "execution_count": 96,
   "id": "e5008335",
   "metadata": {},
   "outputs": [
    {
     "name": "stdout",
     "output_type": "stream",
     "text": [
      "                              OLS Regression Results                              \n",
      "==================================================================================\n",
      "Dep. Variable:     Beer Consumption  (lt)   R-squared:                       0.873\n",
      "Model:                                OLS   Adj. R-squared:                  0.863\n",
      "Method:                     Least Squares   F-statistic:                     88.29\n",
      "Date:                    Wed, 23 Jul 2025   Prob (F-statistic):           1.88e-32\n",
      "Time:                            20:06:26   Log-Likelihood:                -1413.7\n",
      "No. Observations:                      84   AIC:                             2841.\n",
      "Df Residuals:                          77   BIC:                             2858.\n",
      "Df Model:                               6                                         \n",
      "Covariance Type:                nonrobust                                         \n",
      "=====================================================================================\n",
      "                        coef    std err          t      P>|t|      [0.025      0.975]\n",
      "-------------------------------------------------------------------------------------\n",
      "const             -8.826e+06   6.72e+06     -1.314      0.193   -2.22e+07    4.55e+06\n",
      "Tourism_Factor        0.1045      0.008     12.791      0.000       0.088       0.121\n",
      "Raki_to_Beer       1.602e+06   8.24e+05      1.944      0.056   -3.93e+04    3.24e+06\n",
      "SoftDrink_to_Beer  1.323e+07   9.86e+06      1.343      0.183   -6.39e+06    3.29e+07\n",
      "Trend              2.121e+05   3.82e+04      5.556      0.000    1.36e+05    2.88e+05\n",
      "Ramadan_Effect    -7.911e+06   1.53e+06     -5.176      0.000    -1.1e+07   -4.87e+06\n",
      "Season_Trend       1.884e+06   2.18e+06      0.865      0.390   -2.45e+06    6.22e+06\n",
      "==============================================================================\n",
      "Omnibus:                        2.282   Durbin-Watson:                   1.503\n",
      "Prob(Omnibus):                  0.319   Jarque-Bera (JB):                1.826\n",
      "Skew:                           0.357   Prob(JB):                        0.401\n",
      "Kurtosis:                       3.112   Cond. No.                     2.69e+09\n",
      "==============================================================================\n",
      "\n",
      "Notes:\n",
      "[1] Standard Errors assume that the covariance matrix of the errors is correctly specified.\n",
      "[2] The condition number is large, 2.69e+09. This might indicate that there are\n",
      "strong multicollinearity or other numerical problems.\n"
     ]
    }
   ],
   "source": [
    "import statsmodels.api as sm\n",
    "\n",
    "\n",
    "# 1. Define independent variables (X) and dependent variable (y)\n",
    "X = merged_df[['Tourism_Factor', 'Raki_to_Beer', 'SoftDrink_to_Beer', 'Trend', 'Ramadan_Effect', 'Season_Trend']]\n",
    "y = merged_df.iloc[:, 1]\n",
    "\n",
    "# 2. Add constant (intercept) to X\n",
    "X = sm.add_constant(X)\n",
    "\n",
    "# 3. Fit the Multiple Linear Regression model\n",
    "model = sm.OLS(y, X).fit()\n",
    "\n",
    "# 4. Print the summary\n",
    "print(model.summary())\n"
   ]
  },
  {
   "cell_type": "code",
   "execution_count": 98,
   "id": "75524420",
   "metadata": {},
   "outputs": [
    {
     "name": "stdout",
     "output_type": "stream",
     "text": [
      " \n",
      "Q2.\n",
      "Model Fit & Validity\n",
      "1. R-squared = 0.873\n",
      "Model explains 87.3% of the variation in beer consumption.\n",
      "\n",
      "2. Adjusted R-squared = 0.863\n",
      "After accounting for the number of predictors, the model still explains 86.3% of the variance. This shows minimal overfitting.\n",
      "\n",
      "3. F-statistic = 88.29, p-value < 0.00001\n",
      "The overall model is statistically significant; at least one predictor has a meaningful impact on beer consumption.\n",
      "\n",
      "| Predictor         | Coefficient | p-value | Interpretation                                                                                                                           |\n",
      "| ----------------- | ----------- | ------- | ---------------------------------------------------------------------------------------------------------------------------------------- |\n",
      "| Tourism Factor    | 0.1045      | 0.000   | Highly significant                                                                                                                       |\n",
      "| Trend             | 2.121e+05   | 0.000   | Strong upward trend                                                                                                                      | \n",
      "| Ramadan Effect    | -7.91e+06   | 0.000   | Significantly negative: During Ramadan, beer demand drops                                                                                |\n",
      "| Raki to Beer      | 1.60e+06    | 0.056   | Marginal: At 5.6% significance level, not conventionally significant. Still suggests raki price increase might shift demand toward beer. |\n",
      "| SoftDrink to Beer | 1.32e+07    | 0.183   | Not significant: No strong evidence that soft drink prices influence beer demand.                                                        |\n",
      "| Season Trend      | 1.88e+06    | 0.390   | Not significant: Seasonality does not show strong effect                                                                                 |\n",
      "\n",
      "\n"
     ]
    }
   ],
   "source": [
    "print(\n",
    "    \"\"\" \n",
    "Q2.\n",
    "Model Fit & Validity\n",
    "1. R-squared = 0.873\n",
    "Model explains 87.3% of the variation in beer consumption.\n",
    "\n",
    "2. Adjusted R-squared = 0.863\n",
    "After accounting for the number of predictors, the model still explains 86.3% of the variance. This shows minimal overfitting.\n",
    "\n",
    "3. F-statistic = 88.29, p-value < 0.00001\n",
    "The overall model is statistically significant; at least one predictor has a meaningful impact on beer consumption.\n",
    "\n",
    "| Predictor         | Coefficient | p-value | Interpretation                                                                                                                           |\n",
    "| ----------------- | ----------- | ------- | ---------------------------------------------------------------------------------------------------------------------------------------- |\n",
    "| Tourism Factor    | 0.1045      | 0.000   | Highly significant                                                                                                                       |\n",
    "| Trend             | 2.121e+05   | 0.000   | Strong upward trend                                                                                                                      | \n",
    "| Ramadan Effect    | -7.91e+06   | 0.000   | Significantly negative: During Ramadan, beer demand drops                                                                                |\n",
    "| Raki to Beer      | 1.60e+06    | 0.056   | Marginal: At 5.6% significance level, not conventionally significant. Still suggests raki price increase might shift demand toward beer. |\n",
    "| SoftDrink to Beer | 1.32e+07    | 0.183   | Not significant: No strong evidence that soft drink prices influence beer demand.                                                        |\n",
    "| Season Trend      | 1.88e+06    | 0.390   | Not significant: Seasonality does not show strong effect                                                                                 |\n",
    "\n",
    "\"\"\"\n",
    ")"
   ]
  },
  {
   "cell_type": "code",
   "execution_count": 99,
   "id": "7b3156ec",
   "metadata": {},
   "outputs": [
    {
     "name": "stdout",
     "output_type": "stream",
     "text": [
      " \n",
      "Q3. \n",
      "Issue with the model:\n",
      "a. Multicollineraity is high (2.69e+09)\n",
      "b. Multiple varibles which are not statistically significant.\n",
      "We will remove insignificant varibales one by one and check the model.\n",
      "\n",
      "\n"
     ]
    }
   ],
   "source": [
    "print(\n",
    "    \"\"\" \n",
    "Q3. \n",
    "Issue with the model:\n",
    "a. Multicollineraity is high (2.69e+09)\n",
    "b. Multiple varibles which are not statistically significant.\n",
    "We will remove insignificant varibales one by one and check the model.\n",
    "\n",
    "\"\"\"\n",
    ")"
   ]
  },
  {
   "cell_type": "code",
   "execution_count": 100,
   "id": "5c6c751a",
   "metadata": {},
   "outputs": [
    {
     "name": "stdout",
     "output_type": "stream",
     "text": [
      "                              OLS Regression Results                              \n",
      "==================================================================================\n",
      "Dep. Variable:     Beer Consumption  (lt)   R-squared:                       0.872\n",
      "Model:                                OLS   Adj. R-squared:                  0.864\n",
      "Method:                     Least Squares   F-statistic:                     106.1\n",
      "Date:                    Wed, 23 Jul 2025   Prob (F-statistic):           2.50e-33\n",
      "Time:                            20:25:00   Log-Likelihood:                -1414.1\n",
      "No. Observations:                      84   AIC:                             2840.\n",
      "Df Residuals:                          78   BIC:                             2855.\n",
      "Df Model:                               5                                         \n",
      "Covariance Type:                nonrobust                                         \n",
      "=====================================================================================\n",
      "                        coef    std err          t      P>|t|      [0.025      0.975]\n",
      "-------------------------------------------------------------------------------------\n",
      "const             -7.861e+06   6.61e+06     -1.189      0.238    -2.1e+07     5.3e+06\n",
      "Tourism_Factor        0.1061      0.008     13.350      0.000       0.090       0.122\n",
      "Raki_to_Beer         1.6e+06   8.23e+05      1.944      0.056   -3.88e+04    3.24e+06\n",
      "SoftDrink_to_Beer  1.173e+07   9.69e+06      1.212      0.229   -7.55e+06     3.1e+07\n",
      "Trend              2.153e+05   3.79e+04      5.673      0.000     1.4e+05    2.91e+05\n",
      "Ramadan_Effect    -7.886e+06   1.53e+06     -5.169      0.000   -1.09e+07   -4.85e+06\n",
      "==============================================================================\n",
      "Omnibus:                        2.215   Durbin-Watson:                   1.498\n",
      "Prob(Omnibus):                  0.330   Jarque-Bera (JB):                1.831\n",
      "Skew:                           0.360   Prob(JB):                        0.400\n",
      "Kurtosis:                       3.058   Cond. No.                     2.64e+09\n",
      "==============================================================================\n",
      "\n",
      "Notes:\n",
      "[1] Standard Errors assume that the covariance matrix of the errors is correctly specified.\n",
      "[2] The condition number is large, 2.64e+09. This might indicate that there are\n",
      "strong multicollinearity or other numerical problems.\n"
     ]
    }
   ],
   "source": [
    "X_new = X.drop(columns=['Season_Trend'])\n",
    "model_new = sm.OLS(y, sm.add_constant(X_new)).fit()\n",
    "print(model_new.summary())\n"
   ]
  },
  {
   "cell_type": "code",
   "execution_count": 101,
   "id": "00903760",
   "metadata": {},
   "outputs": [
    {
     "name": "stdout",
     "output_type": "stream",
     "text": [
      " \n",
      "Even after removing the 'season_trend' variable, the other two variables are still not statistically significant. But the p-value of 'Softdrink_to_Beer' increased.\n",
      "Now let's remove one by one other non significant variables.\n",
      "\n",
      "\n"
     ]
    }
   ],
   "source": [
    "print(\n",
    "    \"\"\" \n",
    "Even after removing the 'season_trend' variable, the other two variables are still not statistically significant. But the p-value of 'Softdrink_to_Beer' increased.\n",
    "Now let's remove one by one other non significant variables.\n",
    "\n",
    "\"\"\"\n",
    ")"
   ]
  },
  {
   "cell_type": "code",
   "execution_count": 102,
   "id": "e959e1de",
   "metadata": {},
   "outputs": [
    {
     "name": "stdout",
     "output_type": "stream",
     "text": [
      "                              OLS Regression Results                              \n",
      "==================================================================================\n",
      "Dep. Variable:     Beer Consumption  (lt)   R-squared:                       0.870\n",
      "Model:                                OLS   Adj. R-squared:                  0.862\n",
      "Method:                     Least Squares   F-statistic:                     104.5\n",
      "Date:                    Wed, 23 Jul 2025   Prob (F-statistic):           4.21e-33\n",
      "Time:                            20:29:38   Log-Likelihood:                -1414.7\n",
      "No. Observations:                      84   AIC:                             2841.\n",
      "Df Residuals:                          78   BIC:                             2856.\n",
      "Df Model:                               5                                         \n",
      "Covariance Type:                nonrobust                                         \n",
      "==================================================================================\n",
      "                     coef    std err          t      P>|t|      [0.025      0.975]\n",
      "----------------------------------------------------------------------------------\n",
      "const          -2.539e+06   4.84e+06     -0.525      0.601   -1.22e+07     7.1e+06\n",
      "Tourism_Factor     0.1090      0.007     14.542      0.000       0.094       0.124\n",
      "Raki_to_Beer    2.064e+06   7.53e+05      2.740      0.008    5.65e+05    3.56e+06\n",
      "Trend           2.511e+05    2.5e+04     10.057      0.000    2.01e+05    3.01e+05\n",
      "Ramadan_Effect -7.981e+06   1.54e+06     -5.198      0.000    -1.1e+07   -4.92e+06\n",
      "Season_Trend     1.37e+06   2.16e+06      0.636      0.527   -2.92e+06    5.66e+06\n",
      "==============================================================================\n",
      "Omnibus:                        4.474   Durbin-Watson:                   1.508\n",
      "Prob(Omnibus):                  0.107   Jarque-Bera (JB):                3.741\n",
      "Skew:                           0.484   Prob(JB):                        0.154\n",
      "Kurtosis:                       3.361   Cond. No.                     1.18e+09\n",
      "==============================================================================\n",
      "\n",
      "Notes:\n",
      "[1] Standard Errors assume that the covariance matrix of the errors is correctly specified.\n",
      "[2] The condition number is large, 1.18e+09. This might indicate that there are\n",
      "strong multicollinearity or other numerical problems.\n"
     ]
    }
   ],
   "source": [
    "X_new = X.drop(columns=['SoftDrink_to_Beer'])\n",
    "model_new = sm.OLS(y, sm.add_constant(X_new)).fit()\n",
    "print(model_new.summary())"
   ]
  },
  {
   "cell_type": "code",
   "execution_count": 103,
   "id": "d816b9c7",
   "metadata": {},
   "outputs": [
    {
     "name": "stdout",
     "output_type": "stream",
     "text": [
      "                              OLS Regression Results                              \n",
      "==================================================================================\n",
      "Dep. Variable:     Beer Consumption  (lt)   R-squared:                       0.867\n",
      "Model:                                OLS   Adj. R-squared:                  0.858\n",
      "Method:                     Least Squares   F-statistic:                     101.6\n",
      "Date:                    Wed, 23 Jul 2025   Prob (F-statistic):           1.10e-32\n",
      "Time:                            20:30:15   Log-Likelihood:                -1415.7\n",
      "No. Observations:                      84   AIC:                             2843.\n",
      "Df Residuals:                          78   BIC:                             2858.\n",
      "Df Model:                               5                                         \n",
      "Covariance Type:                nonrobust                                         \n",
      "=====================================================================================\n",
      "                        coef    std err          t      P>|t|      [0.025      0.975]\n",
      "-------------------------------------------------------------------------------------\n",
      "const              -4.42e+06   6.43e+06     -0.687      0.494   -1.72e+07    8.39e+06\n",
      "Tourism_Factor        0.1008      0.008     12.463      0.000       0.085       0.117\n",
      "SoftDrink_to_Beer  2.122e+07   9.12e+06      2.328      0.023    3.07e+06    3.94e+07\n",
      "Trend              1.813e+05   3.53e+04      5.130      0.000    1.11e+05    2.52e+05\n",
      "Ramadan_Effect    -7.931e+06   1.56e+06     -5.099      0.000    -1.1e+07   -4.83e+06\n",
      "Season_Trend       1.869e+06   2.22e+06      0.843      0.402   -2.54e+06    6.28e+06\n",
      "==============================================================================\n",
      "Omnibus:                        0.858   Durbin-Watson:                   1.509\n",
      "Prob(Omnibus):                  0.651   Jarque-Bera (JB):                0.815\n",
      "Skew:                           0.232   Prob(JB):                        0.665\n",
      "Kurtosis:                       2.869   Cond. No.                     2.64e+09\n",
      "==============================================================================\n",
      "\n",
      "Notes:\n",
      "[1] Standard Errors assume that the covariance matrix of the errors is correctly specified.\n",
      "[2] The condition number is large, 2.64e+09. This might indicate that there are\n",
      "strong multicollinearity or other numerical problems.\n"
     ]
    }
   ],
   "source": [
    "X_new = X.drop(columns=['Raki_to_Beer'])\n",
    "model_new = sm.OLS(y, sm.add_constant(X_new)).fit()\n",
    "print(model_new.summary())"
   ]
  },
  {
   "cell_type": "code",
   "execution_count": 104,
   "id": "0509f732",
   "metadata": {},
   "outputs": [
    {
     "name": "stdout",
     "output_type": "stream",
     "text": [
      "                              OLS Regression Results                              \n",
      "==================================================================================\n",
      "Dep. Variable:     Beer Consumption  (lt)   R-squared:                       0.869\n",
      "Model:                                OLS   Adj. R-squared:                  0.863\n",
      "Method:                     Least Squares   F-statistic:                     131.5\n",
      "Date:                    Wed, 23 Jul 2025   Prob (F-statistic):           4.19e-34\n",
      "Time:                            20:30:59   Log-Likelihood:                -1414.9\n",
      "No. Observations:                      84   AIC:                             2840.\n",
      "Df Residuals:                          79   BIC:                             2852.\n",
      "Df Model:                               4                                         \n",
      "Covariance Type:                nonrobust                                         \n",
      "==================================================================================\n",
      "                     coef    std err          t      P>|t|      [0.025      0.975]\n",
      "----------------------------------------------------------------------------------\n",
      "const           -2.35e+06   4.81e+06     -0.488      0.627   -1.19e+07    7.23e+06\n",
      "Tourism_Factor     0.1098      0.007     14.925      0.000       0.095       0.124\n",
      "Raki_to_Beer    2.023e+06   7.48e+05      2.706      0.008    5.35e+05    3.51e+06\n",
      "Trend           2.501e+05   2.48e+04     10.075      0.000    2.01e+05       3e+05\n",
      "Ramadan_Effect -7.956e+06   1.53e+06     -5.203      0.000    -1.1e+07   -4.91e+06\n",
      "==============================================================================\n",
      "Omnibus:                        4.153   Durbin-Watson:                   1.507\n",
      "Prob(Omnibus):                  0.125   Jarque-Bera (JB):                3.458\n",
      "Skew:                           0.473   Prob(JB):                        0.177\n",
      "Kurtosis:                       3.304   Cond. No.                     1.17e+09\n",
      "==============================================================================\n",
      "\n",
      "Notes:\n",
      "[1] Standard Errors assume that the covariance matrix of the errors is correctly specified.\n",
      "[2] The condition number is large, 1.17e+09. This might indicate that there are\n",
      "strong multicollinearity or other numerical problems.\n"
     ]
    }
   ],
   "source": [
    "X_new = X.drop(columns=['Season_Trend','SoftDrink_to_Beer'])\n",
    "model_new = sm.OLS(y, sm.add_constant(X_new)).fit()\n",
    "print(model_new.summary())"
   ]
  },
  {
   "cell_type": "code",
   "execution_count": 105,
   "id": "1a692ee2",
   "metadata": {},
   "outputs": [
    {
     "name": "stdout",
     "output_type": "stream",
     "text": [
      "                              OLS Regression Results                              \n",
      "==================================================================================\n",
      "Dep. Variable:     Beer Consumption  (lt)   R-squared:                       0.866\n",
      "Model:                                OLS   Adj. R-squared:                  0.859\n",
      "Method:                     Least Squares   F-statistic:                     127.3\n",
      "Date:                    Wed, 23 Jul 2025   Prob (F-statistic):           1.30e-33\n",
      "Time:                            20:31:28   Log-Likelihood:                -1416.1\n",
      "No. Observations:                      84   AIC:                             2842.\n",
      "Df Residuals:                          79   BIC:                             2854.\n",
      "Df Model:                               4                                         \n",
      "Covariance Type:                nonrobust                                         \n",
      "=====================================================================================\n",
      "                        coef    std err          t      P>|t|      [0.025      0.975]\n",
      "-------------------------------------------------------------------------------------\n",
      "const              -3.47e+06   6.32e+06     -0.549      0.585   -1.61e+07    9.11e+06\n",
      "Tourism_Factor        0.1024      0.008     13.039      0.000       0.087       0.118\n",
      "SoftDrink_to_Beer  1.972e+07   8.92e+06      2.210      0.030    1.96e+06    3.75e+07\n",
      "Trend              1.844e+05   3.51e+04      5.258      0.000    1.15e+05    2.54e+05\n",
      "Ramadan_Effect    -7.906e+06   1.55e+06     -5.093      0.000    -1.1e+07   -4.82e+06\n",
      "==============================================================================\n",
      "Omnibus:                        0.885   Durbin-Watson:                   1.501\n",
      "Prob(Omnibus):                  0.643   Jarque-Bera (JB):                0.882\n",
      "Skew:                           0.236   Prob(JB):                        0.643\n",
      "Kurtosis:                       2.830   Cond. No.                     2.59e+09\n",
      "==============================================================================\n",
      "\n",
      "Notes:\n",
      "[1] Standard Errors assume that the covariance matrix of the errors is correctly specified.\n",
      "[2] The condition number is large, 2.59e+09. This might indicate that there are\n",
      "strong multicollinearity or other numerical problems.\n"
     ]
    }
   ],
   "source": [
    "X_new = X.drop(columns=['Season_Trend','Raki_to_Beer'])\n",
    "model_new = sm.OLS(y, sm.add_constant(X_new)).fit()\n",
    "print(model_new.summary())"
   ]
  },
  {
   "cell_type": "code",
   "execution_count": 106,
   "id": "12e59fa0",
   "metadata": {},
   "outputs": [
    {
     "name": "stdout",
     "output_type": "stream",
     "text": [
      "                              OLS Regression Results                              \n",
      "==================================================================================\n",
      "Dep. Variable:     Beer Consumption  (lt)   R-squared:                       0.858\n",
      "Model:                                OLS   Adj. R-squared:                  0.850\n",
      "Method:                     Least Squares   F-statistic:                     119.0\n",
      "Date:                    Wed, 23 Jul 2025   Prob (F-statistic):           1.27e-32\n",
      "Time:                            20:32:05   Log-Likelihood:                -1418.5\n",
      "No. Observations:                      84   AIC:                             2847.\n",
      "Df Residuals:                          79   BIC:                             2859.\n",
      "Df Model:                               4                                         \n",
      "Covariance Type:                nonrobust                                         \n",
      "==================================================================================\n",
      "                     coef    std err          t      P>|t|      [0.025      0.975]\n",
      "----------------------------------------------------------------------------------\n",
      "const           1.025e+07   1.34e+06      7.662      0.000    7.59e+06    1.29e+07\n",
      "Tourism_Factor     0.1075      0.008     13.825      0.000       0.092       0.123\n",
      "Trend           2.396e+05   2.56e+04      9.358      0.000    1.89e+05    2.91e+05\n",
      "Ramadan_Effect -8.078e+06    1.6e+06     -5.058      0.000   -1.13e+07    -4.9e+06\n",
      "Season_Trend    8.637e+05   2.23e+06      0.387      0.700   -3.58e+06    5.31e+06\n",
      "==============================================================================\n",
      "Omnibus:                        1.991   Durbin-Watson:                   1.516\n",
      "Prob(Omnibus):                  0.369   Jarque-Bera (JB):                1.581\n",
      "Skew:                           0.333   Prob(JB):                        0.454\n",
      "Kurtosis:                       3.088   Cond. No.                     5.17e+08\n",
      "==============================================================================\n",
      "\n",
      "Notes:\n",
      "[1] Standard Errors assume that the covariance matrix of the errors is correctly specified.\n",
      "[2] The condition number is large, 5.17e+08. This might indicate that there are\n",
      "strong multicollinearity or other numerical problems.\n"
     ]
    }
   ],
   "source": [
    "X_new = X.drop(columns=['Raki_to_Beer','SoftDrink_to_Beer'])\n",
    "model_new = sm.OLS(y, sm.add_constant(X_new)).fit()\n",
    "print(model_new.summary())"
   ]
  },
  {
   "cell_type": "code",
   "execution_count": 107,
   "id": "0fda3755",
   "metadata": {},
   "outputs": [
    {
     "name": "stdout",
     "output_type": "stream",
     "text": [
      " \n",
      "After series of removal using different combination of non-significant variable, we can see that if we remove Seaonal_Trend and SoftDrink_to_Beer variable, all other variables remain as significant.\n",
      "The result of that model will be following:\n",
      "\n",
      "\n"
     ]
    }
   ],
   "source": [
    "print(\n",
    "    \"\"\" \n",
    "After series of removal using different combination of non-significant variable, we can see that if we remove Seaonal_Trend and SoftDrink_to_Beer variable, all other variables remain as significant.\n",
    "The result of that model will be following:\n",
    "\n",
    "\"\"\"\n",
    ")"
   ]
  },
  {
   "cell_type": "code",
   "execution_count": 108,
   "id": "0bb2266f",
   "metadata": {},
   "outputs": [
    {
     "name": "stdout",
     "output_type": "stream",
     "text": [
      "                              OLS Regression Results                              \n",
      "==================================================================================\n",
      "Dep. Variable:     Beer Consumption  (lt)   R-squared:                       0.869\n",
      "Model:                                OLS   Adj. R-squared:                  0.863\n",
      "Method:                     Least Squares   F-statistic:                     131.5\n",
      "Date:                    Wed, 23 Jul 2025   Prob (F-statistic):           4.19e-34\n",
      "Time:                            20:34:36   Log-Likelihood:                -1414.9\n",
      "No. Observations:                      84   AIC:                             2840.\n",
      "Df Residuals:                          79   BIC:                             2852.\n",
      "Df Model:                               4                                         \n",
      "Covariance Type:                nonrobust                                         \n",
      "==================================================================================\n",
      "                     coef    std err          t      P>|t|      [0.025      0.975]\n",
      "----------------------------------------------------------------------------------\n",
      "const           -2.35e+06   4.81e+06     -0.488      0.627   -1.19e+07    7.23e+06\n",
      "Tourism_Factor     0.1098      0.007     14.925      0.000       0.095       0.124\n",
      "Raki_to_Beer    2.023e+06   7.48e+05      2.706      0.008    5.35e+05    3.51e+06\n",
      "Trend           2.501e+05   2.48e+04     10.075      0.000    2.01e+05       3e+05\n",
      "Ramadan_Effect -7.956e+06   1.53e+06     -5.203      0.000    -1.1e+07   -4.91e+06\n",
      "==============================================================================\n",
      "Omnibus:                        4.153   Durbin-Watson:                   1.507\n",
      "Prob(Omnibus):                  0.125   Jarque-Bera (JB):                3.458\n",
      "Skew:                           0.473   Prob(JB):                        0.177\n",
      "Kurtosis:                       3.304   Cond. No.                     1.17e+09\n",
      "==============================================================================\n",
      "\n",
      "Notes:\n",
      "[1] Standard Errors assume that the covariance matrix of the errors is correctly specified.\n",
      "[2] The condition number is large, 1.17e+09. This might indicate that there are\n",
      "strong multicollinearity or other numerical problems.\n"
     ]
    }
   ],
   "source": [
    "X_new = X.drop(columns=['Season_Trend','SoftDrink_to_Beer'])\n",
    "model_new = sm.OLS(y, sm.add_constant(X_new)).fit()\n",
    "print(model_new.summary())"
   ]
  },
  {
   "cell_type": "code",
   "execution_count": 123,
   "id": "752e4f78",
   "metadata": {},
   "outputs": [
    {
     "name": "stdout",
     "output_type": "stream",
     "text": [
      "Q4. Are there unusual observations? Interpret and discuss.\n",
      "Ans: Unusual months with residual, having standard deviation from mean is more\n",
      "         Date  Beer Consumption  (lt)      Residual\n",
      "54 1991-07-01              52542044.0  1.416971e+07\n",
      "75 1993-04-01              32558242.0 -1.022224e+07\n",
      "79 1993-08-01              69983870.0  1.365727e+07\n"
     ]
    }
   ],
   "source": [
    "print(\"\"\"Q4. Are there unusual observations? Interpret and discuss.\n",
    "Ans: Unusual months with residual, having standard deviation from mean is more\"\"\")\n",
    "\n",
    "merged_df['Month_of_Year'] = merged_df['Time'].dt.month\n",
    "\n",
    "# Extract Year column for grouping\n",
    "merged_df['Year'] = merged_df['Time'].dt.year\n",
    "# Step 1: Get residuals from the model\n",
    "merged_df['Residual'] = model.resid\n",
    "\n",
    "# Step 2: Calculate basic summary stats\n",
    "mean_resid = merged_df['Residual'].mean()\n",
    "std_resid = merged_df['Residual'].std()\n",
    "\n",
    "# Step 3: Flag values that are far from the average\n",
    "# We'll say anything 2 standard deviations from mean is unusual\n",
    "merged_df['Unusual'] = merged_df['Residual'].apply(lambda x: 'Yes' if abs(x - mean_resid) > 2*std_resid else 'No')\n",
    "\n",
    "# Step 4: See which months were unusual\n",
    "unusual_months = merged_df[merged_df['Unusual'] == 'Yes']\n",
    "print(unusual_months[['Date', df.columns[1], 'Residual']])\n"
   ]
  },
  {
   "cell_type": "code",
   "execution_count": 114,
   "id": "dc45ad33",
   "metadata": {},
   "outputs": [
    {
     "name": "stdout",
     "output_type": "stream",
     "text": [
      "After calculating residuals (difference between actual and predicted beer consumption), we marked observations that were more than 2 standard deviations from the mean as 'unusal'\n"
     ]
    }
   ],
   "source": [
    "print(\"After calculating residuals (difference between actual and predicted beer consumption), we marked observations that were more than 2 standard deviations from the mean as 'unusal'\")"
   ]
  },
  {
   "cell_type": "code",
   "execution_count": 139,
   "id": "eb7da961",
   "metadata": {},
   "outputs": [
    {
     "name": "stderr",
     "output_type": "stream",
     "text": [
      "C:\\Users\\ajaya\\AppData\\Local\\Temp\\ipykernel_16128\\1333097295.py:15: MatplotlibDeprecationWarning:\n",
      "\n",
      "The get_cmap function was deprecated in Matplotlib 3.7 and will be removed in 3.11. Use ``matplotlib.colormaps[name]`` or ``matplotlib.colormaps.get_cmap()`` or ``pyplot.get_cmap()`` instead.\n",
      "\n"
     ]
    },
    {
     "data": {
      "image/png": "[encoded data removed]",
      "text/plain": [
       "<Figure size 1400x600 with 1 Axes>"
      ]
     },
     "metadata": {},
     "output_type": "display_data"
    }
   ],
   "source": [
    "import seaborn as sns\n",
    "import matplotlib.cm as cm\n",
    "\n",
    "# Use seaborn styling\n",
    "sns.set(style='whitegrid')\n",
    "\n",
    "# Single figure for everything\n",
    "plt.figure(figsize=(14, 6))\n",
    "\n",
    "# Generate a color palette based on number of unique years\n",
    "years = sorted(merged_df['Year'].unique())\n",
    "years = [int(year) for year in years]  # Convert from np.int32 to regular int\n",
    "\n",
    "# Get colormap and normalize to number of years\n",
    "cmap = cm.get_cmap('tab20', len(years))  # 'tab20' gives 20 distinct colors\n",
    "\n",
    "# Plot residuals per year with unique color\n",
    "for idx, year in enumerate(years):\n",
    "    data = merged_df[merged_df['Year'] == year]\n",
    "    color = cmap(idx)\n",
    "    plt.plot(data['Month_of_Year'], data['Residual'], label=str(year), color=color)\n",
    "\n",
    "# Overlay: Line and scatter for residuals and unusual observations\n",
    "plt.plot(merged_df['Month_of_Year'], merged_df['Residual'], marker='o', label='Residuals', color='black', linewidth=1, alpha=0.5)\n",
    "plt.scatter(unusual_months['Month_of_Year'], unusual_months['Residual'], color='red', s=80, label='Unusual Observations', zorder=5)\n",
    "\n",
    "# Add mean and ±2 std dev lines\n",
    "plt.axhline(mean_resid, color='green', linestyle='--', label='Mean Residual')\n",
    "plt.axhline(mean_resid + 2 * std_resid, color='orange', linestyle='--', label='+2 Std Dev')\n",
    "plt.axhline(mean_resid - 2 * std_resid, color='orange', linestyle='--', label='-2 Std Dev')\n",
    "\n",
    "# Labels and formatting\n",
    "plt.title('Residuals Over Time by Year')\n",
    "plt.xlabel('Month')\n",
    "plt.ylabel('Residual (Actual - Predicted)')\n",
    "plt.xticks(rotation=45)\n",
    "plt.legend(title='Year + Markers', bbox_to_anchor=(1.05, 1), loc='upper left')\n",
    "plt.tight_layout()\n",
    "plt.show()\n"
   ]
  },
  {
   "cell_type": "code",
   "execution_count": 141,
   "id": "16ab821c",
   "metadata": {},
   "outputs": [
    {
     "data": {
      "application/vnd.plotly.v1+json": {
       "config": {
        "plotlyServerURL": "https://plot.ly"
       },
       "data": [
        {
         "hovertemplate": "Legend=Actual<br>Date=%{x}<br>Consumption (liters)=%{y}<extra></extra>",
         "legendgroup": "Actual",
         "line": {
          "color": "#636efa",
          "dash": "solid"
         },
         "marker": {
          "symbol": "circle"
         },
         "mode": "lines+markers",
         "name": "Actual",
         "orientation": "v",
         "showlegend": true,
         "type": "scatter",
         "x": [
          "1987-01-01T00:00:00.000000000",
          "1987-02-01T00:00:00.000000000",
          "1987-03-01T00:00:00.000000000",
          "1987-04-01T00:00:00.000000000",
          "1987-05-01T00:00:00.000000000",
          "1987-06-01T00:00:00.000000000",
          "1987-07-01T00:00:00.000000000",
          "1987-08-01T00:00:00.000000000",
          "1987-09-01T00:00:00.000000000",
          "1987-10-01T00:00:00.000000000",
          "1987-11-01T00:00:00.000000000",
          "1987-12-01T00:00:00.000000000",
          "1988-01-01T00:00:00.000000000",
          "1988-02-01T00:00:00.000000000",
          "1988-03-01T00:00:00.000000000",
          "1988-04-01T00:00:00.000000000",
          "1988-05-01T00:00:00.000000000",
          "1988-06-01T00:00:00.000000000",
          "1988-07-01T00:00:00.000000000",
          "1988-08-01T00:00:00.000000000",
          "1988-09-01T00:00:00.000000000",
          "1988-10-01T00:00:00.000000000",
          "1988-11-01T00:00:00.000000000",
          "1988-12-01T00:00:00.000000000",
          "1989-01-01T00:00:00.000000000",
          "1989-02-01T00:00:00.000000000",
          "1989-03-01T00:00:00.000000000",
          "1989-04-01T00:00:00.000000000",
          "1989-05-01T00:00:00.000000000",
          "1989-06-01T00:00:00.000000000",
          "1989-07-01T00:00:00.000000000",
          "1989-08-01T00:00:00.000000000",
          "1989-09-01T00:00:00.000000000",
          "1989-10-01T00:00:00.000000000",
          "1989-11-01T00:00:00.000000000",
          "1989-12-01T00:00:00.000000000",
          "1990-01-01T00:00:00.000000000",
          "1990-02-01T00:00:00.000000000",
          "1990-03-01T00:00:00.000000000",
          "1990-04-01T00:00:00.000000000",
          "1990-05-01T00:00:00.000000000",
          "1990-06-01T00:00:00.000000000",
          "1990-07-01T00:00:00.000000000",
          "1990-08-01T00:00:00.000000000",
          "1990-09-01T00:00:00.000000000",
          "1990-10-01T00:00:00.000000000",
          "1990-11-01T00:00:00.000000000",
          "1990-12-01T00:00:00.000000000",
          "1991-01-01T00:00:00.000000000",
          "1991-02-01T00:00:00.000000000",
          "1991-03-01T00:00:00.000000000",
          "1991-04-01T00:00:00.000000000",
          "1991-05-01T00:00:00.000000000",
          "1991-06-01T00:00:00.000000000",
          "1991-07-01T00:00:00.000000000",
          "1991-08-01T00:00:00.000000000",
          "1991-09-01T00:00:00.000000000",
          "1991-10-01T00:00:00.000000000",
          "1991-11-01T00:00:00.000000000",
          "1991-12-01T00:00:00.000000000",
          "1992-01-01T00:00:00.000000000",
          "1992-02-01T00:00:00.000000000",
          "1992-03-01T00:00:00.000000000",
          "1992-04-01T00:00:00.000000000",
          "1992-05-01T00:00:00.000000000",
          "1992-06-01T00:00:00.000000000",
          "1992-07-01T00:00:00.000000000",
          "1992-08-01T00:00:00.000000000",
          "1992-09-01T00:00:00.000000000",
          "1992-10-01T00:00:00.000000000",
          "1992-11-01T00:00:00.000000000",
          "1992-12-01T00:00:00.000000000",
          "1993-01-01T00:00:00.000000000",
          "1993-02-01T00:00:00.000000000",
          "1993-03-01T00:00:00.000000000",
          "1993-04-01T00:00:00.000000000",
          "1993-05-01T00:00:00.000000000",
          "1993-06-01T00:00:00.000000000",
          "1993-07-01T00:00:00.000000000",
          "1993-08-01T00:00:00.000000000",
          "1993-09-01T00:00:00.000000000",
          "1993-10-01T00:00:00.000000000",
          "1993-11-01T00:00:00.000000000",
          "1993-12-01T00:00:00.000000000"
         ],
         "xaxis": "x",
         "y": {
          "bdata": "AAAAAEX7aUEAAAAAWF1rQQAAAOCocWxBAAAAQOfDbkEAAADg+idnQQAAALB7YXxBAAAA0KOqe0EAAABwIe16QQAAABA3DnlBAAAA4LUDdUEAAADwzSBxQQAAANCM43FBAAAA4ABraEEAAABgLJhtQQAAALBIyHBBAAAAAI1TaEEAAAAwCdNzQQAAABDiDXtBAAAAEHihgEEAAAAYYjyBQQAAAECl63lBAAAAEI0jdUEAAACAa1dzQQAAAIAyi25BAAAAAB+aaUEAAAAgweZsQQAAAOD/MHNBAAAAwDMpbkEAAACwDrF2QQAAABBFy3xBAAAAgL5WgkEAAABg/rOEQQAAAJjHGoBBAAAAEO9FekEAAACga/l7QQAAALAb2XJBAAAAMPkycEEAAADAeL1xQQAAALDDVnVBAAAAcPQHcEEAAABAjll9QQAAALCauoNBAAAA4N9bhUEAAAAgzDqHQQAAAOii14JBAAAA0Oe0eUEAAACgdMF6QQAAALDtXXlBAAAAcEuVcUEAAACQFzhyQQAAACDGvHRBAAAA8GITcEEAAAA4kBSAQQAAAKAqGINBAAAA4NINiUEAAADgevKJQQAAAGCSxYNBAAAASDCfgkEAAACwLvN+QQAAAFB1TXpBAAAA8L3KdEEAAACgSdt1QQAAADC1/ndBAAAAoNK0eEEAAAAQP4ODQQAAAPgsSIdBAAAAQNT4i0EAAAAwOv+NQQAAAAgt24dBAAAAwM4bhkEAAABwUnV9QQAAAFDwWn1BAAAAcGGUd0EAAABgX1dzQQAAALC71n5BAAAAIMoMf0EAAAAABUuIQQAAANjLzIpBAAAAWKKAj0EAAAD4ea+QQQAAAHjlV4tBAAAA2CKihEEAAADA5luCQQAAAHDUEIVB",
          "dtype": "f8"
         },
         "yaxis": "y"
        },
        {
         "hovertemplate": "Legend=Predicted<br>Date=%{x}<br>Consumption (liters)=%{y}<extra></extra>",
         "legendgroup": "Predicted",
         "line": {
          "color": "#EF553B",
          "dash": "solid"
         },
         "marker": {
          "symbol": "circle"
         },
         "mode": "lines+markers",
         "name": "Predicted",
         "orientation": "v",
         "showlegend": true,
         "type": "scatter",
         "x": [
          "1987-01-01T00:00:00.000000000",
          "1987-02-01T00:00:00.000000000",
          "1987-03-01T00:00:00.000000000",
          "1987-04-01T00:00:00.000000000",
          "1987-05-01T00:00:00.000000000",
          "1987-06-01T00:00:00.000000000",
          "1987-07-01T00:00:00.000000000",
          "1987-08-01T00:00:00.000000000",
          "1987-09-01T00:00:00.000000000",
          "1987-10-01T00:00:00.000000000",
          "1987-11-01T00:00:00.000000000",
          "1987-12-01T00:00:00.000000000",
          "1988-01-01T00:00:00.000000000",
          "1988-02-01T00:00:00.000000000",
          "1988-03-01T00:00:00.000000000",
          "1988-04-01T00:00:00.000000000",
          "1988-05-01T00:00:00.000000000",
          "1988-06-01T00:00:00.000000000",
          "1988-07-01T00:00:00.000000000",
          "1988-08-01T00:00:00.000000000",
          "1988-09-01T00:00:00.000000000",
          "1988-10-01T00:00:00.000000000",
          "1988-11-01T00:00:00.000000000",
          "1988-12-01T00:00:00.000000000",
          "1989-01-01T00:00:00.000000000",
          "1989-02-01T00:00:00.000000000",
          "1989-03-01T00:00:00.000000000",
          "1989-04-01T00:00:00.000000000",
          "1989-05-01T00:00:00.000000000",
          "1989-06-01T00:00:00.000000000",
          "1989-07-01T00:00:00.000000000",
          "1989-08-01T00:00:00.000000000",
          "1989-09-01T00:00:00.000000000",
          "1989-10-01T00:00:00.000000000",
          "1989-11-01T00:00:00.000000000",
          "1989-12-01T00:00:00.000000000",
          "1990-01-01T00:00:00.000000000",
          "1990-02-01T00:00:00.000000000",
          "1990-03-01T00:00:00.000000000",
          "1990-04-01T00:00:00.000000000",
          "1990-05-01T00:00:00.000000000",
          "1990-06-01T00:00:00.000000000",
          "1990-07-01T00:00:00.000000000",
          "1990-08-01T00:00:00.000000000",
          "1990-09-01T00:00:00.000000000",
          "1990-10-01T00:00:00.000000000",
          "1990-11-01T00:00:00.000000000",
          "1990-12-01T00:00:00.000000000",
          "1991-01-01T00:00:00.000000000",
          "1991-02-01T00:00:00.000000000",
          "1991-03-01T00:00:00.000000000",
          "1991-04-01T00:00:00.000000000",
          "1991-05-01T00:00:00.000000000",
          "1991-06-01T00:00:00.000000000",
          "1991-07-01T00:00:00.000000000",
          "1991-08-01T00:00:00.000000000",
          "1991-09-01T00:00:00.000000000",
          "1991-10-01T00:00:00.000000000",
          "1991-11-01T00:00:00.000000000",
          "1991-12-01T00:00:00.000000000",
          "1992-01-01T00:00:00.000000000",
          "1992-02-01T00:00:00.000000000",
          "1992-03-01T00:00:00.000000000",
          "1992-04-01T00:00:00.000000000",
          "1992-05-01T00:00:00.000000000",
          "1992-06-01T00:00:00.000000000",
          "1992-07-01T00:00:00.000000000",
          "1992-08-01T00:00:00.000000000",
          "1992-09-01T00:00:00.000000000",
          "1992-10-01T00:00:00.000000000",
          "1992-11-01T00:00:00.000000000",
          "1992-12-01T00:00:00.000000000",
          "1993-01-01T00:00:00.000000000",
          "1993-02-01T00:00:00.000000000",
          "1993-03-01T00:00:00.000000000",
          "1993-04-01T00:00:00.000000000",
          "1993-05-01T00:00:00.000000000",
          "1993-06-01T00:00:00.000000000",
          "1993-07-01T00:00:00.000000000",
          "1993-08-01T00:00:00.000000000",
          "1993-09-01T00:00:00.000000000",
          "1993-10-01T00:00:00.000000000",
          "1993-11-01T00:00:00.000000000",
          "1993-12-01T00:00:00.000000000"
         ],
         "xaxis": "x",
         "y": {
          "bdata": "A7+Lb5IZakGWmz1pdZZqQeAu6NGixGxBgMv4vtL1ZkFEbHl0/ZZvQSA37mp25XhBRARoef09dkFD3RsSrlh3QdIPaJkBrndB1g1RhmIwdUEnYmHRHtxqQRSvLaTbhmpBAhuLwi1gaEE03Rf7cfJoQTXtDu+sQ3BB6PKlI7UnaUG+ogLFVO50QebqcgwyV31BRvxOb7kUfkE0hNC28yN/QepufDlkt35BL5444UBbekHgQnhIGiFyQS47uUvka3BB5o2uvvbUbkFaO3+sIJxvQfL6R+76n3JBgi0hOqVDbkH397Tn5/d3QSDwR/OOXIBBSs3MfKwegUEAqNsyUyaCQXOHcb2mToJBjw6Gukjtf0GoVpM5nLB2QTMsVJYhfXVBkQW5dgzRdEExFZNWZrJ1QS+3GjSPMHFBtzsC4D9ZdkEtSUeKA6GCQR0UWPL6r4NBu7j9qeslhUF7+vrqxbqEQXwa+wfTNIRBOv5HK/2JgEGuSo4tukB3QV+Lw5LZnXZB7LTyfCkKdUEKwMzf70d3QTAcxB1vsnFBXqW2RenfcEGSrG3t3YF+QeK54IUipX9BhiqiCN2egkFTYOKE3kyGQbJV8RCIdoZBjGEJKlh+g0Fxzo0kOox9Qap3YnCB63tBoHy4mzcUfEHyK7x2nON8QVTc0qLMrXZBCuLRjSAGfUECDzAUK3mHQbprC6UlCYhBCelPtmX1iUF+11noWPCLQUBDiTE5mItB7eO2IBOriEG4llYBEPJ8QSZxhswruXtBFBlAIS7Be0GWIoh9I7x0QWYh50RjWndBv6p9OeNIhEF1sZTlLSmKQUmnOwZ8UItBZUwcupgaikFDcsNYnSGKQZJeDVsIXIpBBYzlvIkuh0EvT2GTDM6AQS6pjOiwVIBB",
          "dtype": "f8"
         },
         "yaxis": "y"
        }
       ],
       "layout": {
        "legend": {
         "title": {
          "text": "Legend"
         },
         "tracegroupgap": 0
        },
        "template": {
         "data": {
          "bar": [
           {
            "error_x": {
             "color": "#2a3f5f"
            },
            "error_y": {
             "color": "#2a3f5f"
            },
            "marker": {
             "line": {
              "color": "#E5ECF6",
              "width": 0.5
             },
             "pattern": {
              "fillmode": "overlay",
              "size": 10,
              "solidity": 0.2
             }
            },
            "type": "bar"
           }
          ],
          "barpolar": [
           {
            "marker": {
             "line": {
              "color": "#E5ECF6",
              "width": 0.5
             },
             "pattern": {
              "fillmode": "overlay",
              "size": 10,
              "solidity": 0.2
             }
            },
            "type": "barpolar"
           }
          ],
          "carpet": [
           {
            "aaxis": {
             "endlinecolor": "#2a3f5f",
             "gridcolor": "white",
             "linecolor": "white",
             "minorgridcolor": "white",
             "startlinecolor": "#2a3f5f"
            },
            "baxis": {
             "endlinecolor": "#2a3f5f",
             "gridcolor": "white",
             "linecolor": "white",
             "minorgridcolor": "white",
             "startlinecolor": "#2a3f5f"
            },
            "type": "carpet"
           }
          ],
          "choropleth": [
           {
            "colorbar": {
             "outlinewidth": 0,
             "ticks": ""
            },
            "type": "choropleth"
           }
          ],
          "contour": [
           {
            "colorbar": {
             "outlinewidth": 0,
             "ticks": ""
            },
            "colorscale": [
             [
              0,
              "#0d0887"
             ],
             [
              0.1111111111111111,
              "#46039f"
             ],
             [
              0.2222222222222222,
              "#7201a8"
             ],
             [
              0.3333333333333333,
              "#9c179e"
             ],
             [
              0.4444444444444444,
              "#bd3786"
             ],
             [
              0.5555555555555556,
              "#d8576b"
             ],
             [
              0.6666666666666666,
              "#ed7953"
             ],
             [
              0.7777777777777778,
              "#fb9f3a"
             ],
             [
              0.8888888888888888,
              "#fdca26"
             ],
             [
              1,
              "#f0f921"
             ]
            ],
            "type": "contour"
           }
          ],
          "contourcarpet": [
           {
            "colorbar": {
             "outlinewidth": 0,
             "ticks": ""
            },
            "type": "contourcarpet"
           }
          ],
          "heatmap": [
           {
            "colorbar": {
             "outlinewidth": 0,
             "ticks": ""
            },
            "colorscale": [
             [
              0,
              "#0d0887"
             ],
             [
              0.1111111111111111,
              "#46039f"
             ],
             [
              0.2222222222222222,
              "#7201a8"
             ],
             [
              0.3333333333333333,
              "#9c179e"
             ],
             [
              0.4444444444444444,
              "#bd3786"
             ],
             [
              0.5555555555555556,
              "#d8576b"
             ],
             [
              0.6666666666666666,
              "#ed7953"
             ],
             [
              0.7777777777777778,
              "#fb9f3a"
             ],
             [
              0.8888888888888888,
              "#fdca26"
             ],
             [
              1,
              "#f0f921"
             ]
            ],
            "type": "heatmap"
           }
          ],
          "histogram": [
           {
            "marker": {
             "pattern": {
              "fillmode": "overlay",
              "size": 10,
              "solidity": 0.2
             }
            },
            "type": "histogram"
           }
          ],
          "histogram2d": [
           {
            "colorbar": {
             "outlinewidth": 0,
             "ticks": ""
            },
            "colorscale": [
             [
              0,
              "#0d0887"
             ],
             [
              0.1111111111111111,
              "#46039f"
             ],
             [
              0.2222222222222222,
              "#7201a8"
             ],
             [
              0.3333333333333333,
              "#9c179e"
             ],
             [
              0.4444444444444444,
              "#bd3786"
             ],
             [
              0.5555555555555556,
              "#d8576b"
             ],
             [
              0.6666666666666666,
              "#ed7953"
             ],
             [
              0.7777777777777778,
              "#fb9f3a"
             ],
             [
              0.8888888888888888,
              "#fdca26"
             ],
             [
              1,
              "#f0f921"
             ]
            ],
            "type": "histogram2d"
           }
          ],
          "histogram2dcontour": [
           {
            "colorbar": {
             "outlinewidth": 0,
             "ticks": ""
            },
            "colorscale": [
             [
              0,
              "#0d0887"
             ],
             [
              0.1111111111111111,
              "#46039f"
             ],
             [
              0.2222222222222222,
              "#7201a8"
             ],
             [
              0.3333333333333333,
              "#9c179e"
             ],
             [
              0.4444444444444444,
              "#bd3786"
             ],
             [
              0.5555555555555556,
              "#d8576b"
             ],
             [
              0.6666666666666666,
              "#ed7953"
             ],
             [
              0.7777777777777778,
              "#fb9f3a"
             ],
             [
              0.8888888888888888,
              "#fdca26"
             ],
             [
              1,
              "#f0f921"
             ]
            ],
            "type": "histogram2dcontour"
           }
          ],
          "mesh3d": [
           {
            "colorbar": {
             "outlinewidth": 0,
             "ticks": ""
            },
            "type": "mesh3d"
           }
          ],
          "parcoords": [
           {
            "line": {
             "colorbar": {
              "outlinewidth": 0,
              "ticks": ""
             }
            },
            "type": "parcoords"
           }
          ],
          "pie": [
           {
            "automargin": true,
            "type": "pie"
           }
          ],
          "scatter": [
           {
            "fillpattern": {
             "fillmode": "overlay",
             "size": 10,
             "solidity": 0.2
            },
            "type": "scatter"
           }
          ],
          "scatter3d": [
           {
            "line": {
             "colorbar": {
              "outlinewidth": 0,
              "ticks": ""
             }
            },
            "marker": {
             "colorbar": {
              "outlinewidth": 0,
              "ticks": ""
             }
            },
            "type": "scatter3d"
           }
          ],
          "scattercarpet": [
           {
            "marker": {
             "colorbar": {
              "outlinewidth": 0,
              "ticks": ""
             }
            },
            "type": "scattercarpet"
           }
          ],
          "scattergeo": [
           {
            "marker": {
             "colorbar": {
              "outlinewidth": 0,
              "ticks": ""
             }
            },
            "type": "scattergeo"
           }
          ],
          "scattergl": [
           {
            "marker": {
             "colorbar": {
              "outlinewidth": 0,
              "ticks": ""
             }
            },
            "type": "scattergl"
           }
          ],
          "scattermap": [
           {
            "marker": {
             "colorbar": {
              "outlinewidth": 0,
              "ticks": ""
             }
            },
            "type": "scattermap"
           }
          ],
          "scattermapbox": [
           {
            "marker": {
             "colorbar": {
              "outlinewidth": 0,
              "ticks": ""
             }
            },
            "type": "scattermapbox"
           }
          ],
          "scatterpolar": [
           {
            "marker": {
             "colorbar": {
              "outlinewidth": 0,
              "ticks": ""
             }
            },
            "type": "scatterpolar"
           }
          ],
          "scatterpolargl": [
           {
            "marker": {
             "colorbar": {
              "outlinewidth": 0,
              "ticks": ""
             }
            },
            "type": "scatterpolargl"
           }
          ],
          "scatterternary": [
           {
            "marker": {
             "colorbar": {
              "outlinewidth": 0,
              "ticks": ""
             }
            },
            "type": "scatterternary"
           }
          ],
          "surface": [
           {
            "colorbar": {
             "outlinewidth": 0,
             "ticks": ""
            },
            "colorscale": [
             [
              0,
              "#0d0887"
             ],
             [
              0.1111111111111111,
              "#46039f"
             ],
             [
              0.2222222222222222,
              "#7201a8"
             ],
             [
              0.3333333333333333,
              "#9c179e"
             ],
             [
              0.4444444444444444,
              "#bd3786"
             ],
             [
              0.5555555555555556,
              "#d8576b"
             ],
             [
              0.6666666666666666,
              "#ed7953"
             ],
             [
              0.7777777777777778,
              "#fb9f3a"
             ],
             [
              0.8888888888888888,
              "#fdca26"
             ],
             [
              1,
              "#f0f921"
             ]
            ],
            "type": "surface"
           }
          ],
          "table": [
           {
            "cells": {
             "fill": {
              "color": "#EBF0F8"
             },
             "line": {
              "color": "white"
             }
            },
            "header": {
             "fill": {
              "color": "#C8D4E3"
             },
             "line": {
              "color": "white"
             }
            },
            "type": "table"
           }
          ]
         },
         "layout": {
          "annotationdefaults": {
           "arrowcolor": "#2a3f5f",
           "arrowhead": 0,
           "arrowwidth": 1
          },
          "autotypenumbers": "strict",
          "coloraxis": {
           "colorbar": {
            "outlinewidth": 0,
            "ticks": ""
           }
          },
          "colorscale": {
           "diverging": [
            [
             0,
             "#8e0152"
            ],
            [
             0.1,
             "#c51b7d"
            ],
            [
             0.2,
             "#de77ae"
            ],
            [
             0.3,
             "#f1b6da"
            ],
            [
             0.4,
             "#fde0ef"
            ],
            [
             0.5,
             "#f7f7f7"
            ],
            [
             0.6,
             "#e6f5d0"
            ],
            [
             0.7,
             "#b8e186"
            ],
            [
             0.8,
             "#7fbc41"
            ],
            [
             0.9,
             "#4d9221"
            ],
            [
             1,
             "#276419"
            ]
           ],
           "sequential": [
            [
             0,
             "#0d0887"
            ],
            [
             0.1111111111111111,
             "#46039f"
            ],
            [
             0.2222222222222222,
             "#7201a8"
            ],
            [
             0.3333333333333333,
             "#9c179e"
            ],
            [
             0.4444444444444444,
             "#bd3786"
            ],
            [
             0.5555555555555556,
             "#d8576b"
            ],
            [
             0.6666666666666666,
             "#ed7953"
            ],
            [
             0.7777777777777778,
             "#fb9f3a"
            ],
            [
             0.8888888888888888,
             "#fdca26"
            ],
            [
             1,
             "#f0f921"
            ]
           ],
           "sequentialminus": [
            [
             0,
             "#0d0887"
            ],
            [
             0.1111111111111111,
             "#46039f"
            ],
            [
             0.2222222222222222,
             "#7201a8"
            ],
            [
             0.3333333333333333,
             "#9c179e"
            ],
            [
             0.4444444444444444,
             "#bd3786"
            ],
            [
             0.5555555555555556,
             "#d8576b"
            ],
            [
             0.6666666666666666,
             "#ed7953"
            ],
            [
             0.7777777777777778,
             "#fb9f3a"
            ],
            [
             0.8888888888888888,
             "#fdca26"
            ],
            [
             1,
             "#f0f921"
            ]
           ]
          },
          "colorway": [
           "#636efa",
           "#EF553B",
           "#00cc96",
           "#ab63fa",
           "#FFA15A",
           "#19d3f3",
           "#FF6692",
           "#B6E880",
           "#FF97FF",
           "#FECB52"
          ],
          "font": {
           "color": "#2a3f5f"
          },
          "geo": {
           "bgcolor": "white",
           "lakecolor": "white",
           "landcolor": "#E5ECF6",
           "showlakes": true,
           "showland": true,
           "subunitcolor": "white"
          },
          "hoverlabel": {
           "align": "left"
          },
          "hovermode": "closest",
          "mapbox": {
           "style": "light"
          },
          "paper_bgcolor": "white",
          "plot_bgcolor": "#E5ECF6",
          "polar": {
           "angularaxis": {
            "gridcolor": "white",
            "linecolor": "white",
            "ticks": ""
           },
           "bgcolor": "#E5ECF6",
           "radialaxis": {
            "gridcolor": "white",
            "linecolor": "white",
            "ticks": ""
           }
          },
          "scene": {
           "xaxis": {
            "backgroundcolor": "#E5ECF6",
            "gridcolor": "white",
            "gridwidth": 2,
            "linecolor": "white",
            "showbackground": true,
            "ticks": "",
            "zerolinecolor": "white"
           },
           "yaxis": {
            "backgroundcolor": "#E5ECF6",
            "gridcolor": "white",
            "gridwidth": 2,
            "linecolor": "white",
            "showbackground": true,
            "ticks": "",
            "zerolinecolor": "white"
           },
           "zaxis": {
            "backgroundcolor": "#E5ECF6",
            "gridcolor": "white",
            "gridwidth": 2,
            "linecolor": "white",
            "showbackground": true,
            "ticks": "",
            "zerolinecolor": "white"
           }
          },
          "shapedefaults": {
           "line": {
            "color": "#2a3f5f"
           }
          },
          "ternary": {
           "aaxis": {
            "gridcolor": "white",
            "linecolor": "white",
            "ticks": ""
           },
           "baxis": {
            "gridcolor": "white",
            "linecolor": "white",
            "ticks": ""
           },
           "bgcolor": "#E5ECF6",
           "caxis": {
            "gridcolor": "white",
            "linecolor": "white",
            "ticks": ""
           }
          },
          "title": {
           "x": 0.05
          },
          "xaxis": {
           "automargin": true,
           "gridcolor": "white",
           "linecolor": "white",
           "ticks": "",
           "title": {
            "standoff": 15
           },
           "zerolinecolor": "white",
           "zerolinewidth": 2
          },
          "yaxis": {
           "automargin": true,
           "gridcolor": "white",
           "linecolor": "white",
           "ticks": "",
           "title": {
            "standoff": 15
           },
           "zerolinecolor": "white",
           "zerolinewidth": 2
          }
         }
        },
        "title": {
         "text": "Monthly Beer Consumption: Actual vs Predicted"
        },
        "xaxis": {
         "anchor": "y",
         "domain": [
          0,
          1
         ],
         "title": {
          "text": "Date"
         }
        },
        "yaxis": {
         "anchor": "x",
         "domain": [
          0,
          1
         ],
         "tickformat": ",",
         "title": {
          "text": "Consumption (liters)"
         }
        }
       }
      }
     },
     "metadata": {},
     "output_type": "display_data"
    }
   ],
   "source": [
    "import plotly.express as px\n",
    "import pandas as pd\n",
    "\n",
    "\n",
    "# Rename for clarity (if not already renamed)\n",
    "merged_df['Actual'] = merged_df['Beer Consumption  (lt)']\n",
    "\n",
    "# Generate predicted values\n",
    "merged_df['Predicted'] = model_new.predict(sm.add_constant(X_new))\n",
    "\n",
    "# Melt the DataFrame to long format for Plotly\n",
    "df_melted = merged_df.melt(id_vars='Time', value_vars=['Actual', 'Predicted'],\n",
    "                           var_name='Type', value_name='Beer Consumption')\n",
    "\n",
    "# Plot interactive line chart\n",
    "fig = px.line(df_melted, x='Time', y='Beer Consumption', color='Type',\n",
    "              markers=True, title='Monthly Beer Consumption: Actual vs Predicted',\n",
    "              labels={'Time': 'Date', 'Beer Consumption': 'Consumption (liters)', 'Type': 'Legend'})\n",
    "\n",
    "# Format y-axis to show full numbers with commas\n",
    "fig.update_layout(yaxis_tickformat=\",\")\n",
    "\n",
    "# Optional: zoom, hover, etc.\n",
    "fig.update_traces(mode='lines+markers')\n",
    "fig.show()\n",
    "\n"
   ]
  },
  {
   "cell_type": "code",
   "execution_count": 142,
   "id": "c0d5d3d7",
   "metadata": {},
   "outputs": [
    {
     "name": "stdout",
     "output_type": "stream",
     "text": [
      " \n",
      "Q5. \n",
      "Predictive capability of each variable (in old model):\n",
      "Tourism: High\n",
      "Relative Raki Price: Low\n",
      "Relative Soft Drink Price: Low\n",
      "Trend: High\n",
      "Ramadan Effect: Medium/High\n",
      "Seasonality Effect: Low\n",
      "\n",
      "So, we removed Seasonality Effect and Relative Soft Drink Price to make Relative Raki Price as a significant variable. In our new model:\n",
      "Tourism: High\n",
      "Relative Raki Price: High\n",
      "Trend: High\n",
      "Ramadan Effect: Medium/High\n",
      "\n",
      "For predicting following year values\n",
      "Assumptions:\n",
      "Tourism: +5% increase over last year’s monthly values.\n",
      "Relative Raki Price: Same as last known month.\n",
      "Ramadan Days: Given already\n",
      "Trend: Continue the sequence by adding 12 more months.\n",
      "\n"
     ]
    }
   ],
   "source": [
    "print(\n",
    "    \"\"\" \n",
    "Q5. \n",
    "Predictive capability of each variable (in old model):\n",
    "Tourism: High\n",
    "Relative Raki Price: Low\n",
    "Relative Soft Drink Price: Low\n",
    "Trend: High\n",
    "Ramadan Effect: Medium/High\n",
    "Seasonality Effect: Low\n",
    "\n",
    "So, we removed Seasonality Effect and Relative Soft Drink Price to make Relative Raki Price as a significant variable. In our new model:\n",
    "Tourism: High\n",
    "Relative Raki Price: High\n",
    "Trend: High\n",
    "Ramadan Effect: Medium/High\n",
    "\n",
    "For predicting following year values\n",
    "Assumptions:\n",
    "Tourism: +5% increase over last year’s monthly values.\n",
    "Relative Raki Price: Same as last known month.\n",
    "Ramadan Days: Given already\n",
    "Trend: Continue the sequence by adding 12 more months.\n",
    "\"\"\"\n",
    ")"
   ]
  },
  {
   "cell_type": "code",
   "execution_count": 150,
   "id": "d796183f",
   "metadata": {},
   "outputs": [],
   "source": [
    "# Let's assume last date is Dec 1993\n",
    "future_dates = pd.date_range(start='1994-01-01', periods=12, freq='MS')\n",
    "\n",
    "future_df = pd.DataFrame({\n",
    "    'Time': future_dates,\n",
    "    'Month_of_Year': future_dates.month,\n",
    "    'Year': future_dates.year,\n",
    "    'Trend': range(merged_df['Trend'].max() + 1, merged_df['Trend'].max() + 13)\n",
    "})\n",
    "\n",
    "# Assume 5% increase in tourism_factor\n",
    "monthly_tourism_avg = merged_df.groupby('Month_of_Year')['Tourism_Factor'].mean().values\n",
    "future_df['Tourism'] = monthly_tourism_avg * 1.05\n",
    "\n",
    "# Assume last known relative prices\n",
    "future_df['Raki_to_Beer'] = merged_df['Raki_to_Beer'].iloc[-1]\n",
    "future_df['Raki_to_Beer'] = future_df['Raki_to_Beer'].astype(float)\n",
    "\n",
    "# Ramadan\n",
    "def is_ramadan(row):\n",
    "    return 1 if row['Month_of_Year'] in ramadan_months.get(row['Year'], []) else 0\n",
    "\n",
    "future_df['Ramadan_Effect'] = future_df.apply(is_ramadan, axis=1)\n",
    "\n",
    "\n",
    "# Select predictor columns for prediction\n",
    "X_future = future_df[['Tourism', 'Raki_to_Beer', 'Trend', 'Ramadan_Effect']]\n",
    "X_future = sm.add_constant(X_future, has_constant='add')\n",
    "# print(X_future.shape)              \n",
    "# print(model_new.params.shape)     \n",
    "\n",
    "# Predict using new model\n",
    "future_df['Predicted_Beer'] = model_new.predict(X_future)\n"
   ]
  },
  {
   "cell_type": "code",
   "execution_count": 154,
   "id": "0b35eb99",
   "metadata": {},
   "outputs": [
    {
     "data": {
      "application/vnd.plotly.v1+json": {
       "config": {
        "plotlyServerURL": "https://plot.ly"
       },
       "data": [
        {
         "hovertemplate": "Time=%{x}<br>Beer_Consumption=%{y}<extra></extra>",
         "legendgroup": "",
         "line": {
          "color": "#636efa",
          "dash": "solid"
         },
         "marker": {
          "symbol": "circle"
         },
         "mode": "lines",
         "name": "",
         "orientation": "v",
         "showlegend": false,
         "type": "scatter",
         "x": [
          "1987-01-01T00:00:00.000000000",
          "1987-02-01T00:00:00.000000000",
          "1987-03-01T00:00:00.000000000",
          "1987-04-01T00:00:00.000000000",
          "1987-05-01T00:00:00.000000000",
          "1987-06-01T00:00:00.000000000",
          "1987-07-01T00:00:00.000000000",
          "1987-08-01T00:00:00.000000000",
          "1987-09-01T00:00:00.000000000",
          "1987-10-01T00:00:00.000000000",
          "1987-11-01T00:00:00.000000000",
          "1987-12-01T00:00:00.000000000",
          "1988-01-01T00:00:00.000000000",
          "1988-02-01T00:00:00.000000000",
          "1988-03-01T00:00:00.000000000",
          "1988-04-01T00:00:00.000000000",
          "1988-05-01T00:00:00.000000000",
          "1988-06-01T00:00:00.000000000",
          "1988-07-01T00:00:00.000000000",
          "1988-08-01T00:00:00.000000000",
          "1988-09-01T00:00:00.000000000",
          "1988-10-01T00:00:00.000000000",
          "1988-11-01T00:00:00.000000000",
          "1988-12-01T00:00:00.000000000",
          "1989-01-01T00:00:00.000000000",
          "1989-02-01T00:00:00.000000000",
          "1989-03-01T00:00:00.000000000",
          "1989-04-01T00:00:00.000000000",
          "1989-05-01T00:00:00.000000000",
          "1989-06-01T00:00:00.000000000",
          "1989-07-01T00:00:00.000000000",
          "1989-08-01T00:00:00.000000000",
          "1989-09-01T00:00:00.000000000",
          "1989-10-01T00:00:00.000000000",
          "1989-11-01T00:00:00.000000000",
          "1989-12-01T00:00:00.000000000",
          "1990-01-01T00:00:00.000000000",
          "1990-02-01T00:00:00.000000000",
          "1990-03-01T00:00:00.000000000",
          "1990-04-01T00:00:00.000000000",
          "1990-05-01T00:00:00.000000000",
          "1990-06-01T00:00:00.000000000",
          "1990-07-01T00:00:00.000000000",
          "1990-08-01T00:00:00.000000000",
          "1990-09-01T00:00:00.000000000",
          "1990-10-01T00:00:00.000000000",
          "1990-11-01T00:00:00.000000000",
          "1990-12-01T00:00:00.000000000",
          "1991-01-01T00:00:00.000000000",
          "1991-02-01T00:00:00.000000000",
          "1991-03-01T00:00:00.000000000",
          "1991-04-01T00:00:00.000000000",
          "1991-05-01T00:00:00.000000000",
          "1991-06-01T00:00:00.000000000",
          "1991-07-01T00:00:00.000000000",
          "1991-08-01T00:00:00.000000000",
          "1991-09-01T00:00:00.000000000",
          "1991-10-01T00:00:00.000000000",
          "1991-11-01T00:00:00.000000000",
          "1991-12-01T00:00:00.000000000",
          "1992-01-01T00:00:00.000000000",
          "1992-02-01T00:00:00.000000000",
          "1992-03-01T00:00:00.000000000",
          "1992-04-01T00:00:00.000000000",
          "1992-05-01T00:00:00.000000000",
          "1992-06-01T00:00:00.000000000",
          "1992-07-01T00:00:00.000000000",
          "1992-08-01T00:00:00.000000000",
          "1992-09-01T00:00:00.000000000",
          "1992-10-01T00:00:00.000000000",
          "1992-11-01T00:00:00.000000000",
          "1992-12-01T00:00:00.000000000",
          "1993-01-01T00:00:00.000000000",
          "1993-02-01T00:00:00.000000000",
          "1993-03-01T00:00:00.000000000",
          "1993-04-01T00:00:00.000000000",
          "1993-05-01T00:00:00.000000000",
          "1993-06-01T00:00:00.000000000",
          "1993-07-01T00:00:00.000000000",
          "1993-08-01T00:00:00.000000000",
          "1993-09-01T00:00:00.000000000",
          "1993-10-01T00:00:00.000000000",
          "1993-11-01T00:00:00.000000000",
          "1993-12-01T00:00:00.000000000",
          "1994-01-01T00:00:00.000000000",
          "1994-02-01T00:00:00.000000000",
          "1994-03-01T00:00:00.000000000",
          "1994-04-01T00:00:00.000000000",
          "1994-05-01T00:00:00.000000000",
          "1994-06-01T00:00:00.000000000",
          "1994-07-01T00:00:00.000000000",
          "1994-08-01T00:00:00.000000000",
          "1994-09-01T00:00:00.000000000",
          "1994-10-01T00:00:00.000000000",
          "1994-11-01T00:00:00.000000000",
          "1994-12-01T00:00:00.000000000"
         ],
         "xaxis": "x",
         "y": {
          "bdata": "AAAAAEX7aUEAAAAAWF1rQQAAAOCocWxBAAAAQOfDbkEAAADg+idnQQAAALB7YXxBAAAA0KOqe0EAAABwIe16QQAAABA3DnlBAAAA4LUDdUEAAADwzSBxQQAAANCM43FBAAAA4ABraEEAAABgLJhtQQAAALBIyHBBAAAAAI1TaEEAAAAwCdNzQQAAABDiDXtBAAAAEHihgEEAAAAYYjyBQQAAAECl63lBAAAAEI0jdUEAAACAa1dzQQAAAIAyi25BAAAAAB+aaUEAAAAgweZsQQAAAOD/MHNBAAAAwDMpbkEAAACwDrF2QQAAABBFy3xBAAAAgL5WgkEAAABg/rOEQQAAAJjHGoBBAAAAEO9FekEAAACga/l7QQAAALAb2XJBAAAAMPkycEEAAADAeL1xQQAAALDDVnVBAAAAcPQHcEEAAABAjll9QQAAALCauoNBAAAA4N9bhUEAAAAgzDqHQQAAAOii14JBAAAA0Oe0eUEAAACgdMF6QQAAALDtXXlBAAAAcEuVcUEAAACQFzhyQQAAACDGvHRBAAAA8GITcEEAAAA4kBSAQQAAAKAqGINBAAAA4NINiUEAAADgevKJQQAAAGCSxYNBAAAASDCfgkEAAACwLvN+QQAAAFB1TXpBAAAA8L3KdEEAAACgSdt1QQAAADC1/ndBAAAAoNK0eEEAAAAQP4ODQQAAAPgsSIdBAAAAQNT4i0EAAAAwOv+NQQAAAAgt24dBAAAAwM4bhkEAAABwUnV9QQAAAFDwWn1BAAAAcGGUd0EAAABgX1dzQQAAALC71n5BAAAAIMoMf0EAAAAABUuIQQAAANjLzIpBAAAAWKKAj0EAAAD4ea+QQQAAAHjlV4tBAAAA2CKihEEAAADA5luCQQAAAHDUEIVBI7Vy/O3+fkF0E49jkMt3QVRNRa/63HlBipoc0Wzvg0G2gL3jTz2IQaGRWFOqs4hBT8ZRM1h8iUGbdjTEb0uKQcAbvvLKBYpBX7H+rKl3h0F9WSCSnZyBQYFkQDaaNIFB",
          "dtype": "f8"
         },
         "yaxis": "y"
        },
        {
         "marker": {
          "color": "blue"
         },
         "mode": "markers",
         "name": "Actual",
         "type": "scatter",
         "x": [
          "1987-01-01T00:00:00.000000000",
          "1987-02-01T00:00:00.000000000",
          "1987-03-01T00:00:00.000000000",
          "1987-04-01T00:00:00.000000000",
          "1987-05-01T00:00:00.000000000",
          "1987-06-01T00:00:00.000000000",
          "1987-07-01T00:00:00.000000000",
          "1987-08-01T00:00:00.000000000",
          "1987-09-01T00:00:00.000000000",
          "1987-10-01T00:00:00.000000000",
          "1987-11-01T00:00:00.000000000",
          "1987-12-01T00:00:00.000000000",
          "1988-01-01T00:00:00.000000000",
          "1988-02-01T00:00:00.000000000",
          "1988-03-01T00:00:00.000000000",
          "1988-04-01T00:00:00.000000000",
          "1988-05-01T00:00:00.000000000",
          "1988-06-01T00:00:00.000000000",
          "1988-07-01T00:00:00.000000000",
          "1988-08-01T00:00:00.000000000",
          "1988-09-01T00:00:00.000000000",
          "1988-10-01T00:00:00.000000000",
          "1988-11-01T00:00:00.000000000",
          "1988-12-01T00:00:00.000000000",
          "1989-01-01T00:00:00.000000000",
          "1989-02-01T00:00:00.000000000",
          "1989-03-01T00:00:00.000000000",
          "1989-04-01T00:00:00.000000000",
          "1989-05-01T00:00:00.000000000",
          "1989-06-01T00:00:00.000000000",
          "1989-07-01T00:00:00.000000000",
          "1989-08-01T00:00:00.000000000",
          "1989-09-01T00:00:00.000000000",
          "1989-10-01T00:00:00.000000000",
          "1989-11-01T00:00:00.000000000",
          "1989-12-01T00:00:00.000000000",
          "1990-01-01T00:00:00.000000000",
          "1990-02-01T00:00:00.000000000",
          "1990-03-01T00:00:00.000000000",
          "1990-04-01T00:00:00.000000000",
          "1990-05-01T00:00:00.000000000",
          "1990-06-01T00:00:00.000000000",
          "1990-07-01T00:00:00.000000000",
          "1990-08-01T00:00:00.000000000",
          "1990-09-01T00:00:00.000000000",
          "1990-10-01T00:00:00.000000000",
          "1990-11-01T00:00:00.000000000",
          "1990-12-01T00:00:00.000000000",
          "1991-01-01T00:00:00.000000000",
          "1991-02-01T00:00:00.000000000",
          "1991-03-01T00:00:00.000000000",
          "1991-04-01T00:00:00.000000000",
          "1991-05-01T00:00:00.000000000",
          "1991-06-01T00:00:00.000000000",
          "1991-07-01T00:00:00.000000000",
          "1991-08-01T00:00:00.000000000",
          "1991-09-01T00:00:00.000000000",
          "1991-10-01T00:00:00.000000000",
          "1991-11-01T00:00:00.000000000",
          "1991-12-01T00:00:00.000000000",
          "1992-01-01T00:00:00.000000000",
          "1992-02-01T00:00:00.000000000",
          "1992-03-01T00:00:00.000000000",
          "1992-04-01T00:00:00.000000000",
          "1992-05-01T00:00:00.000000000",
          "1992-06-01T00:00:00.000000000",
          "1992-07-01T00:00:00.000000000",
          "1992-08-01T00:00:00.000000000",
          "1992-09-01T00:00:00.000000000",
          "1992-10-01T00:00:00.000000000",
          "1992-11-01T00:00:00.000000000",
          "1992-12-01T00:00:00.000000000",
          "1993-01-01T00:00:00.000000000",
          "1993-02-01T00:00:00.000000000",
          "1993-03-01T00:00:00.000000000",
          "1993-04-01T00:00:00.000000000",
          "1993-05-01T00:00:00.000000000",
          "1993-06-01T00:00:00.000000000",
          "1993-07-01T00:00:00.000000000",
          "1993-08-01T00:00:00.000000000",
          "1993-09-01T00:00:00.000000000",
          "1993-10-01T00:00:00.000000000",
          "1993-11-01T00:00:00.000000000",
          "1993-12-01T00:00:00.000000000"
         ],
         "y": {
          "bdata": "AAAAAEX7aUEAAAAAWF1rQQAAAOCocWxBAAAAQOfDbkEAAADg+idnQQAAALB7YXxBAAAA0KOqe0EAAABwIe16QQAAABA3DnlBAAAA4LUDdUEAAADwzSBxQQAAANCM43FBAAAA4ABraEEAAABgLJhtQQAAALBIyHBBAAAAAI1TaEEAAAAwCdNzQQAAABDiDXtBAAAAEHihgEEAAAAYYjyBQQAAAECl63lBAAAAEI0jdUEAAACAa1dzQQAAAIAyi25BAAAAAB+aaUEAAAAgweZsQQAAAOD/MHNBAAAAwDMpbkEAAACwDrF2QQAAABBFy3xBAAAAgL5WgkEAAABg/rOEQQAAAJjHGoBBAAAAEO9FekEAAACga/l7QQAAALAb2XJBAAAAMPkycEEAAADAeL1xQQAAALDDVnVBAAAAcPQHcEEAAABAjll9QQAAALCauoNBAAAA4N9bhUEAAAAgzDqHQQAAAOii14JBAAAA0Oe0eUEAAACgdMF6QQAAALDtXXlBAAAAcEuVcUEAAACQFzhyQQAAACDGvHRBAAAA8GITcEEAAAA4kBSAQQAAAKAqGINBAAAA4NINiUEAAADgevKJQQAAAGCSxYNBAAAASDCfgkEAAACwLvN+QQAAAFB1TXpBAAAA8L3KdEEAAACgSdt1QQAAADC1/ndBAAAAoNK0eEEAAAAQP4ODQQAAAPgsSIdBAAAAQNT4i0EAAAAwOv+NQQAAAAgt24dBAAAAwM4bhkEAAABwUnV9QQAAAFDwWn1BAAAAcGGUd0EAAABgX1dzQQAAALC71n5BAAAAIMoMf0EAAAAABUuIQQAAANjLzIpBAAAAWKKAj0EAAAD4ea+QQQAAAHjlV4tBAAAA2CKihEEAAADA5luCQQAAAHDUEIVB",
          "dtype": "f8"
         }
        },
        {
         "marker": {
          "color": "red"
         },
         "mode": "markers",
         "name": "Predicted",
         "type": "scatter",
         "x": [
          "1994-01-01T00:00:00.000000000",
          "1994-02-01T00:00:00.000000000",
          "1994-03-01T00:00:00.000000000",
          "1994-04-01T00:00:00.000000000",
          "1994-05-01T00:00:00.000000000",
          "1994-06-01T00:00:00.000000000",
          "1994-07-01T00:00:00.000000000",
          "1994-08-01T00:00:00.000000000",
          "1994-09-01T00:00:00.000000000",
          "1994-10-01T00:00:00.000000000",
          "1994-11-01T00:00:00.000000000",
          "1994-12-01T00:00:00.000000000"
         ],
         "y": {
          "bdata": "I7Vy/O3+fkF0E49jkMt3QVRNRa/63HlBipoc0Wzvg0G2gL3jTz2IQaGRWFOqs4hBT8ZRM1h8iUGbdjTEb0uKQcAbvvLKBYpBX7H+rKl3h0F9WSCSnZyBQYFkQDaaNIFB",
          "dtype": "f8"
         }
        }
       ],
       "layout": {
        "legend": {
         "tracegroupgap": 0
        },
        "template": {
         "data": {
          "bar": [
           {
            "error_x": {
             "color": "#2a3f5f"
            },
            "error_y": {
             "color": "#2a3f5f"
            },
            "marker": {
             "line": {
              "color": "#E5ECF6",
              "width": 0.5
             },
             "pattern": {
              "fillmode": "overlay",
              "size": 10,
              "solidity": 0.2
             }
            },
            "type": "bar"
           }
          ],
          "barpolar": [
           {
            "marker": {
             "line": {
              "color": "#E5ECF6",
              "width": 0.5
             },
             "pattern": {
              "fillmode": "overlay",
              "size": 10,
              "solidity": 0.2
             }
            },
            "type": "barpolar"
           }
          ],
          "carpet": [
           {
            "aaxis": {
             "endlinecolor": "#2a3f5f",
             "gridcolor": "white",
             "linecolor": "white",
             "minorgridcolor": "white",
             "startlinecolor": "#2a3f5f"
            },
            "baxis": {
             "endlinecolor": "#2a3f5f",
             "gridcolor": "white",
             "linecolor": "white",
             "minorgridcolor": "white",
             "startlinecolor": "#2a3f5f"
            },
            "type": "carpet"
           }
          ],
          "choropleth": [
           {
            "colorbar": {
             "outlinewidth": 0,
             "ticks": ""
            },
            "type": "choropleth"
           }
          ],
          "contour": [
           {
            "colorbar": {
             "outlinewidth": 0,
             "ticks": ""
            },
            "colorscale": [
             [
              0,
              "#0d0887"
             ],
             [
              0.1111111111111111,
              "#46039f"
             ],
             [
              0.2222222222222222,
              "#7201a8"
             ],
             [
              0.3333333333333333,
              "#9c179e"
             ],
             [
              0.4444444444444444,
              "#bd3786"
             ],
             [
              0.5555555555555556,
              "#d8576b"
             ],
             [
              0.6666666666666666,
              "#ed7953"
             ],
             [
              0.7777777777777778,
              "#fb9f3a"
             ],
             [
              0.8888888888888888,
              "#fdca26"
             ],
             [
              1,
              "#f0f921"
             ]
            ],
            "type": "contour"
           }
          ],
          "contourcarpet": [
           {
            "colorbar": {
             "outlinewidth": 0,
             "ticks": ""
            },
            "type": "contourcarpet"
           }
          ],
          "heatmap": [
           {
            "colorbar": {
             "outlinewidth": 0,
             "ticks": ""
            },
            "colorscale": [
             [
              0,
              "#0d0887"
             ],
             [
              0.1111111111111111,
              "#46039f"
             ],
             [
              0.2222222222222222,
              "#7201a8"
             ],
             [
              0.3333333333333333,
              "#9c179e"
             ],
             [
              0.4444444444444444,
              "#bd3786"
             ],
             [
              0.5555555555555556,
              "#d8576b"
             ],
             [
              0.6666666666666666,
              "#ed7953"
             ],
             [
              0.7777777777777778,
              "#fb9f3a"
             ],
             [
              0.8888888888888888,
              "#fdca26"
             ],
             [
              1,
              "#f0f921"
             ]
            ],
            "type": "heatmap"
           }
          ],
          "histogram": [
           {
            "marker": {
             "pattern": {
              "fillmode": "overlay",
              "size": 10,
              "solidity": 0.2
             }
            },
            "type": "histogram"
           }
          ],
          "histogram2d": [
           {
            "colorbar": {
             "outlinewidth": 0,
             "ticks": ""
            },
            "colorscale": [
             [
              0,
              "#0d0887"
             ],
             [
              0.1111111111111111,
              "#46039f"
             ],
             [
              0.2222222222222222,
              "#7201a8"
             ],
             [
              0.3333333333333333,
              "#9c179e"
             ],
             [
              0.4444444444444444,
              "#bd3786"
             ],
             [
              0.5555555555555556,
              "#d8576b"
             ],
             [
              0.6666666666666666,
              "#ed7953"
             ],
             [
              0.7777777777777778,
              "#fb9f3a"
             ],
             [
              0.8888888888888888,
              "#fdca26"
             ],
             [
              1,
              "#f0f921"
             ]
            ],
            "type": "histogram2d"
           }
          ],
          "histogram2dcontour": [
           {
            "colorbar": {
             "outlinewidth": 0,
             "ticks": ""
            },
            "colorscale": [
             [
              0,
              "#0d0887"
             ],
             [
              0.1111111111111111,
              "#46039f"
             ],
             [
              0.2222222222222222,
              "#7201a8"
             ],
             [
              0.3333333333333333,
              "#9c179e"
             ],
             [
              0.4444444444444444,
              "#bd3786"
             ],
             [
              0.5555555555555556,
              "#d8576b"
             ],
             [
              0.6666666666666666,
              "#ed7953"
             ],
             [
              0.7777777777777778,
              "#fb9f3a"
             ],
             [
              0.8888888888888888,
              "#fdca26"
             ],
             [
              1,
              "#f0f921"
             ]
            ],
            "type": "histogram2dcontour"
           }
          ],
          "mesh3d": [
           {
            "colorbar": {
             "outlinewidth": 0,
             "ticks": ""
            },
            "type": "mesh3d"
           }
          ],
          "parcoords": [
           {
            "line": {
             "colorbar": {
              "outlinewidth": 0,
              "ticks": ""
             }
            },
            "type": "parcoords"
           }
          ],
          "pie": [
           {
            "automargin": true,
            "type": "pie"
           }
          ],
          "scatter": [
           {
            "fillpattern": {
             "fillmode": "overlay",
             "size": 10,
             "solidity": 0.2
            },
            "type": "scatter"
           }
          ],
          "scatter3d": [
           {
            "line": {
             "colorbar": {
              "outlinewidth": 0,
              "ticks": ""
             }
            },
            "marker": {
             "colorbar": {
              "outlinewidth": 0,
              "ticks": ""
             }
            },
            "type": "scatter3d"
           }
          ],
          "scattercarpet": [
           {
            "marker": {
             "colorbar": {
              "outlinewidth": 0,
              "ticks": ""
             }
            },
            "type": "scattercarpet"
           }
          ],
          "scattergeo": [
           {
            "marker": {
             "colorbar": {
              "outlinewidth": 0,
              "ticks": ""
             }
            },
            "type": "scattergeo"
           }
          ],
          "scattergl": [
           {
            "marker": {
             "colorbar": {
              "outlinewidth": 0,
              "ticks": ""
             }
            },
            "type": "scattergl"
           }
          ],
          "scattermap": [
           {
            "marker": {
             "colorbar": {
              "outlinewidth": 0,
              "ticks": ""
             }
            },
            "type": "scattermap"
           }
          ],
          "scattermapbox": [
           {
            "marker": {
             "colorbar": {
              "outlinewidth": 0,
              "ticks": ""
             }
            },
            "type": "scattermapbox"
           }
          ],
          "scatterpolar": [
           {
            "marker": {
             "colorbar": {
              "outlinewidth": 0,
              "ticks": ""
             }
            },
            "type": "scatterpolar"
           }
          ],
          "scatterpolargl": [
           {
            "marker": {
             "colorbar": {
              "outlinewidth": 0,
              "ticks": ""
             }
            },
            "type": "scatterpolargl"
           }
          ],
          "scatterternary": [
           {
            "marker": {
             "colorbar": {
              "outlinewidth": 0,
              "ticks": ""
             }
            },
            "type": "scatterternary"
           }
          ],
          "surface": [
           {
            "colorbar": {
             "outlinewidth": 0,
             "ticks": ""
            },
            "colorscale": [
             [
              0,
              "#0d0887"
             ],
             [
              0.1111111111111111,
              "#46039f"
             ],
             [
              0.2222222222222222,
              "#7201a8"
             ],
             [
              0.3333333333333333,
              "#9c179e"
             ],
             [
              0.4444444444444444,
              "#bd3786"
             ],
             [
              0.5555555555555556,
              "#d8576b"
             ],
             [
              0.6666666666666666,
              "#ed7953"
             ],
             [
              0.7777777777777778,
              "#fb9f3a"
             ],
             [
              0.8888888888888888,
              "#fdca26"
             ],
             [
              1,
              "#f0f921"
             ]
            ],
            "type": "surface"
           }
          ],
          "table": [
           {
            "cells": {
             "fill": {
              "color": "#EBF0F8"
             },
             "line": {
              "color": "white"
             }
            },
            "header": {
             "fill": {
              "color": "#C8D4E3"
             },
             "line": {
              "color": "white"
             }
            },
            "type": "table"
           }
          ]
         },
         "layout": {
          "annotationdefaults": {
           "arrowcolor": "#2a3f5f",
           "arrowhead": 0,
           "arrowwidth": 1
          },
          "autotypenumbers": "strict",
          "coloraxis": {
           "colorbar": {
            "outlinewidth": 0,
            "ticks": ""
           }
          },
          "colorscale": {
           "diverging": [
            [
             0,
             "#8e0152"
            ],
            [
             0.1,
             "#c51b7d"
            ],
            [
             0.2,
             "#de77ae"
            ],
            [
             0.3,
             "#f1b6da"
            ],
            [
             0.4,
             "#fde0ef"
            ],
            [
             0.5,
             "#f7f7f7"
            ],
            [
             0.6,
             "#e6f5d0"
            ],
            [
             0.7,
             "#b8e186"
            ],
            [
             0.8,
             "#7fbc41"
            ],
            [
             0.9,
             "#4d9221"
            ],
            [
             1,
             "#276419"
            ]
           ],
           "sequential": [
            [
             0,
             "#0d0887"
            ],
            [
             0.1111111111111111,
             "#46039f"
            ],
            [
             0.2222222222222222,
             "#7201a8"
            ],
            [
             0.3333333333333333,
             "#9c179e"
            ],
            [
             0.4444444444444444,
             "#bd3786"
            ],
            [
             0.5555555555555556,
             "#d8576b"
            ],
            [
             0.6666666666666666,
             "#ed7953"
            ],
            [
             0.7777777777777778,
             "#fb9f3a"
            ],
            [
             0.8888888888888888,
             "#fdca26"
            ],
            [
             1,
             "#f0f921"
            ]
           ],
           "sequentialminus": [
            [
             0,
             "#0d0887"
            ],
            [
             0.1111111111111111,
             "#46039f"
            ],
            [
             0.2222222222222222,
             "#7201a8"
            ],
            [
             0.3333333333333333,
             "#9c179e"
            ],
            [
             0.4444444444444444,
             "#bd3786"
            ],
            [
             0.5555555555555556,
             "#d8576b"
            ],
            [
             0.6666666666666666,
             "#ed7953"
            ],
            [
             0.7777777777777778,
             "#fb9f3a"
            ],
            [
             0.8888888888888888,
             "#fdca26"
            ],
            [
             1,
             "#f0f921"
            ]
           ]
          },
          "colorway": [
           "#636efa",
           "#EF553B",
           "#00cc96",
           "#ab63fa",
           "#FFA15A",
           "#19d3f3",
           "#FF6692",
           "#B6E880",
           "#FF97FF",
           "#FECB52"
          ],
          "font": {
           "color": "#2a3f5f"
          },
          "geo": {
           "bgcolor": "white",
           "lakecolor": "white",
           "landcolor": "#E5ECF6",
           "showlakes": true,
           "showland": true,
           "subunitcolor": "white"
          },
          "hoverlabel": {
           "align": "left"
          },
          "hovermode": "closest",
          "mapbox": {
           "style": "light"
          },
          "paper_bgcolor": "white",
          "plot_bgcolor": "#E5ECF6",
          "polar": {
           "angularaxis": {
            "gridcolor": "white",
            "linecolor": "white",
            "ticks": ""
           },
           "bgcolor": "#E5ECF6",
           "radialaxis": {
            "gridcolor": "white",
            "linecolor": "white",
            "ticks": ""
           }
          },
          "scene": {
           "xaxis": {
            "backgroundcolor": "#E5ECF6",
            "gridcolor": "white",
            "gridwidth": 2,
            "linecolor": "white",
            "showbackground": true,
            "ticks": "",
            "zerolinecolor": "white"
           },
           "yaxis": {
            "backgroundcolor": "#E5ECF6",
            "gridcolor": "white",
            "gridwidth": 2,
            "linecolor": "white",
            "showbackground": true,
            "ticks": "",
            "zerolinecolor": "white"
           },
           "zaxis": {
            "backgroundcolor": "#E5ECF6",
            "gridcolor": "white",
            "gridwidth": 2,
            "linecolor": "white",
            "showbackground": true,
            "ticks": "",
            "zerolinecolor": "white"
           }
          },
          "shapedefaults": {
           "line": {
            "color": "#2a3f5f"
           }
          },
          "ternary": {
           "aaxis": {
            "gridcolor": "white",
            "linecolor": "white",
            "ticks": ""
           },
           "baxis": {
            "gridcolor": "white",
            "linecolor": "white",
            "ticks": ""
           },
           "bgcolor": "#E5ECF6",
           "caxis": {
            "gridcolor": "white",
            "linecolor": "white",
            "ticks": ""
           }
          },
          "title": {
           "x": 0.05
          },
          "xaxis": {
           "automargin": true,
           "gridcolor": "white",
           "linecolor": "white",
           "ticks": "",
           "title": {
            "standoff": 15
           },
           "zerolinecolor": "white",
           "zerolinewidth": 2
          },
          "yaxis": {
           "automargin": true,
           "gridcolor": "white",
           "linecolor": "white",
           "ticks": "",
           "title": {
            "standoff": 15
           },
           "zerolinecolor": "white",
           "zerolinewidth": 2
          }
         }
        },
        "title": {
         "text": "Actual and Forecasted Beer Consumption"
        },
        "xaxis": {
         "anchor": "y",
         "domain": [
          0,
          1
         ],
         "title": {
          "text": "Time"
         }
        },
        "yaxis": {
         "anchor": "x",
         "domain": [
          0,
          1
         ],
         "tickformat": ",",
         "title": {
          "text": "Beer_Consumption"
         }
        }
       }
      }
     },
     "metadata": {},
     "output_type": "display_data"
    }
   ],
   "source": [
    "\n",
    "# Combine actual and predicted into one row-wise DataFrame\n",
    "actual_df = merged_df[['Time', 'Beer Consumption  (lt)']].copy()\n",
    "actual_df.columns = ['Time', 'Beer_Consumption']\n",
    "actual_df['Type'] = 'Actual'\n",
    "\n",
    "pred_df = future_df[['Time', 'Predicted_Beer']].copy()\n",
    "pred_df.columns = ['Time', 'Beer_Consumption']\n",
    "pred_df['Type'] = 'Predicted'\n",
    "\n",
    "combined_df = pd.concat([actual_df, pred_df], axis=0).sort_values('Time')\n",
    "\n",
    "# Plot continuous line\n",
    "fig = px.line(combined_df, x='Time', y='Beer_Consumption', title='Actual and Forecasted Beer Consumption')\n",
    "\n",
    "# Add colored markers for Actual vs Predicted\n",
    "fig.add_scatter(x=actual_df['Time'], y=actual_df['Beer_Consumption'], mode='markers', name='Actual', marker=dict(color='blue'))\n",
    "fig.add_scatter(x=pred_df['Time'], y=pred_df['Beer_Consumption'], mode='markers', name='Predicted', marker=dict(color='red'))\n",
    "\n",
    "fig.update_layout(yaxis_tickformat=\",\")\n",
    "fig.show()\n",
    "\n"
   ]
  },
  {
   "cell_type": "code",
   "execution_count": 155,
   "id": "7ed5ba01",
   "metadata": {},
   "outputs": [
    {
     "name": "stdout",
     "output_type": "stream",
     "text": [
      " \n",
      "Q6. \n",
      "Yes, there are alternative models that can include different sets of predictor variables while offering similar explanatory power for forecasting monthly beer consumption.\n",
      "For instance, reduced regression model (which we used to refine our model), time series model like ARIMA capture trends inherently without relying on external predictors like tourism or pricing.\n",
      "Similarly, machine learning models such as Random Forests or Gradient Boosting Regressors can capture complex nonlinear interactions between predictors and may even perform well with \n",
      "a reduced or different set of features.\n",
      "When multiple models with different predictor sets yield comparable accuracy, it shows that the pattern is being captured by important factors like or trend,\n",
      "and that some predictors may be substitutable.\n",
      "In such cases, the choice of model should be decided by its interpretability, forecast stability, and accuracy.\n",
      "\n",
      "\n"
     ]
    }
   ],
   "source": [
    "print(\n",
    "\"\"\" \n",
    "Q6. \n",
    "Yes, there are alternative models that can include different sets of predictor variables while offering similar explanatory power for forecasting monthly beer consumption.\n",
    "For instance, reduced regression model (which we used to refine our model), time series model like ARIMA capture trends inherently without relying on external predictors like tourism or pricing.\n",
    "Similarly, machine learning models such as Random Forests or Gradient Boosting Regressors can capture complex nonlinear interactions between predictors and may even perform well with \n",
    "a reduced or different set of features.\n",
    "When multiple models with different predictor sets yield comparable accuracy, it shows that the pattern is being captured by important factors like or trend,\n",
    "and that some predictors may be substitutable.\n",
    "In such cases, the choice of model should be decided by its interpretability, forecast stability, and accuracy.\n",
    "\n",
    "\"\"\"\n",
    ")"
   ]
  }
 ],
 "metadata": {
  "kernelspec": {
   "display_name": "Python 3",
   "language": "python",
   "name": "python3"
  },
  "language_info": {
   "codemirror_mode": {
    "name": "ipython",
    "version": 3
   },
   "file_extension": ".py",
   "mimetype": "text/x-python",
   "name": "python",
   "nbconvert_exporter": "python",
   "pygments_lexer": "ipython3",
   "version": "3.13.5"
  }
 },
 "nbformat": 4,
 "nbformat_minor": 5
}
